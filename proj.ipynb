{
  "nbformat": 4,
  "nbformat_minor": 0,
  "metadata": {
    "colab": {
      "name": "proj.ipynb",
      "provenance": [],
      "collapsed_sections": [
        "1yk7h1W6qV0I",
        "bF26auwApS7v",
        "eoDqeOxhJ8rX",
        "CN2gwUqKrAMK",
        "76ai4wOHrqMz",
        "YkmcQ4B4mpWR",
        "jSARrd6VnXyf",
        "8p_g4UQK8vJH",
        "MgHFTgmN-2DL",
        "najtdajHGbJk",
        "DRVXUYw4JtUA"
      ],
      "mount_file_id": "1ejq5Ymdm_SziK687OVrJstgXM_uGAeDl",
      "authorship_tag": "ABX9TyPXRYM2Rtoiuj8TXJNgiZVG"
    },
    "kernelspec": {
      "name": "python3",
      "display_name": "Python 3"
    },
    "language_info": {
      "name": "python"
    }
  },
  "cells": [
    {
      "cell_type": "markdown",
      "source": [
        "# Titanic EDA"
      ],
      "metadata": {
        "id": "K0PEUCHT83Zh"
      }
    },
    {
      "cell_type": "markdown",
      "source": [
        "## 1. 문제 정의"
      ],
      "metadata": {
        "id": "rrhRJUqW7vtj"
      }
    },
    {
      "cell_type": "markdown",
      "source": [
        "타이타닉호에 승선했던 탑승자 정보를 담고 있는 데이터를 기반으로  \n",
        "침몰사고 시 어떤 승객이 어떤 조건에서 어떻게 살아남은 확률을 가질 수 있는지 다양한 측면에서 분석해본다."
      ],
      "metadata": {
        "id": "wXa0omx770Xi"
      }
    },
    {
      "cell_type": "markdown",
      "source": [
        "## 2. 라이브러리 및 데이터 로드"
      ],
      "metadata": {
        "id": "bF26auwApS7v"
      }
    },
    {
      "cell_type": "markdown",
      "source": [
        "### 라이브러리 로드"
      ],
      "metadata": {
        "id": "ramfLMPjoWb0"
      }
    },
    {
      "cell_type": "code",
      "execution_count": 1,
      "metadata": {
        "id": "QA41CNWV-7H4"
      },
      "outputs": [],
      "source": [
        "# 데이터 처리\n",
        "import numpy as np\n",
        "import pandas as pd\n",
        "\n",
        "# 데이터 시각화\n",
        "import matplotlib.pyplot as plt\n",
        "import seaborn as sns"
      ]
    },
    {
      "cell_type": "markdown",
      "source": [
        "### 데이터 로드 및 확인"
      ],
      "metadata": {
        "id": "TzDcq4zRoZvj"
      }
    },
    {
      "cell_type": "code",
      "source": [
        "df = pd.read_csv('titanic.csv')\n",
        "df.head()"
      ],
      "metadata": {
        "colab": {
          "base_uri": "https://localhost:8080/",
          "height": 206
        },
        "id": "Tms8WDL4IAiU",
        "outputId": "01c311a4-960a-4c9d-bb2c-63179634d6c2"
      },
      "execution_count": 2,
      "outputs": [
        {
          "output_type": "execute_result",
          "data": {
            "text/plain": [
              "   pclass  survived                                             name     sex  \\\n",
              "0       1         1                    Allen, Miss. Elisabeth Walton  female   \n",
              "1       1         1                   Allison, Master. Hudson Trevor    male   \n",
              "2       1         0                     Allison, Miss. Helen Loraine  female   \n",
              "3       1         0             Allison, Mr. Hudson Joshua Creighton    male   \n",
              "4       1         0  Allison, Mrs. Hudson J C (Bessie Waldo Daniels)  female   \n",
              "\n",
              "     age  sibsp  parch  ticket      fare    cabin embarked boat   body  \\\n",
              "0  29.00      0      0   24160  211.3375       B5        S    2    NaN   \n",
              "1   0.92      1      2  113781  151.5500  C22 C26        S   11    NaN   \n",
              "2   2.00      1      2  113781  151.5500  C22 C26        S  NaN    NaN   \n",
              "3  30.00      1      2  113781  151.5500  C22 C26        S  NaN  135.0   \n",
              "4  25.00      1      2  113781  151.5500  C22 C26        S  NaN    NaN   \n",
              "\n",
              "                         home.dest  \n",
              "0                     St Louis, MO  \n",
              "1  Montreal, PQ / Chesterville, ON  \n",
              "2  Montreal, PQ / Chesterville, ON  \n",
              "3  Montreal, PQ / Chesterville, ON  \n",
              "4  Montreal, PQ / Chesterville, ON  "
            ],
            "text/html": [
              "\n",
              "  <div id=\"df-d4592f01-3fd0-4f0f-9631-ae1a31b2fe53\">\n",
              "    <div class=\"colab-df-container\">\n",
              "      <div>\n",
              "<style scoped>\n",
              "    .dataframe tbody tr th:only-of-type {\n",
              "        vertical-align: middle;\n",
              "    }\n",
              "\n",
              "    .dataframe tbody tr th {\n",
              "        vertical-align: top;\n",
              "    }\n",
              "\n",
              "    .dataframe thead th {\n",
              "        text-align: right;\n",
              "    }\n",
              "</style>\n",
              "<table border=\"1\" class=\"dataframe\">\n",
              "  <thead>\n",
              "    <tr style=\"text-align: right;\">\n",
              "      <th></th>\n",
              "      <th>pclass</th>\n",
              "      <th>survived</th>\n",
              "      <th>name</th>\n",
              "      <th>sex</th>\n",
              "      <th>age</th>\n",
              "      <th>sibsp</th>\n",
              "      <th>parch</th>\n",
              "      <th>ticket</th>\n",
              "      <th>fare</th>\n",
              "      <th>cabin</th>\n",
              "      <th>embarked</th>\n",
              "      <th>boat</th>\n",
              "      <th>body</th>\n",
              "      <th>home.dest</th>\n",
              "    </tr>\n",
              "  </thead>\n",
              "  <tbody>\n",
              "    <tr>\n",
              "      <th>0</th>\n",
              "      <td>1</td>\n",
              "      <td>1</td>\n",
              "      <td>Allen, Miss. Elisabeth Walton</td>\n",
              "      <td>female</td>\n",
              "      <td>29.00</td>\n",
              "      <td>0</td>\n",
              "      <td>0</td>\n",
              "      <td>24160</td>\n",
              "      <td>211.3375</td>\n",
              "      <td>B5</td>\n",
              "      <td>S</td>\n",
              "      <td>2</td>\n",
              "      <td>NaN</td>\n",
              "      <td>St Louis, MO</td>\n",
              "    </tr>\n",
              "    <tr>\n",
              "      <th>1</th>\n",
              "      <td>1</td>\n",
              "      <td>1</td>\n",
              "      <td>Allison, Master. Hudson Trevor</td>\n",
              "      <td>male</td>\n",
              "      <td>0.92</td>\n",
              "      <td>1</td>\n",
              "      <td>2</td>\n",
              "      <td>113781</td>\n",
              "      <td>151.5500</td>\n",
              "      <td>C22 C26</td>\n",
              "      <td>S</td>\n",
              "      <td>11</td>\n",
              "      <td>NaN</td>\n",
              "      <td>Montreal, PQ / Chesterville, ON</td>\n",
              "    </tr>\n",
              "    <tr>\n",
              "      <th>2</th>\n",
              "      <td>1</td>\n",
              "      <td>0</td>\n",
              "      <td>Allison, Miss. Helen Loraine</td>\n",
              "      <td>female</td>\n",
              "      <td>2.00</td>\n",
              "      <td>1</td>\n",
              "      <td>2</td>\n",
              "      <td>113781</td>\n",
              "      <td>151.5500</td>\n",
              "      <td>C22 C26</td>\n",
              "      <td>S</td>\n",
              "      <td>NaN</td>\n",
              "      <td>NaN</td>\n",
              "      <td>Montreal, PQ / Chesterville, ON</td>\n",
              "    </tr>\n",
              "    <tr>\n",
              "      <th>3</th>\n",
              "      <td>1</td>\n",
              "      <td>0</td>\n",
              "      <td>Allison, Mr. Hudson Joshua Creighton</td>\n",
              "      <td>male</td>\n",
              "      <td>30.00</td>\n",
              "      <td>1</td>\n",
              "      <td>2</td>\n",
              "      <td>113781</td>\n",
              "      <td>151.5500</td>\n",
              "      <td>C22 C26</td>\n",
              "      <td>S</td>\n",
              "      <td>NaN</td>\n",
              "      <td>135.0</td>\n",
              "      <td>Montreal, PQ / Chesterville, ON</td>\n",
              "    </tr>\n",
              "    <tr>\n",
              "      <th>4</th>\n",
              "      <td>1</td>\n",
              "      <td>0</td>\n",
              "      <td>Allison, Mrs. Hudson J C (Bessie Waldo Daniels)</td>\n",
              "      <td>female</td>\n",
              "      <td>25.00</td>\n",
              "      <td>1</td>\n",
              "      <td>2</td>\n",
              "      <td>113781</td>\n",
              "      <td>151.5500</td>\n",
              "      <td>C22 C26</td>\n",
              "      <td>S</td>\n",
              "      <td>NaN</td>\n",
              "      <td>NaN</td>\n",
              "      <td>Montreal, PQ / Chesterville, ON</td>\n",
              "    </tr>\n",
              "  </tbody>\n",
              "</table>\n",
              "</div>\n",
              "      <button class=\"colab-df-convert\" onclick=\"convertToInteractive('df-d4592f01-3fd0-4f0f-9631-ae1a31b2fe53')\"\n",
              "              title=\"Convert this dataframe to an interactive table.\"\n",
              "              style=\"display:none;\">\n",
              "        \n",
              "  <svg xmlns=\"http://www.w3.org/2000/svg\" height=\"24px\"viewBox=\"0 0 24 24\"\n",
              "       width=\"24px\">\n",
              "    <path d=\"M0 0h24v24H0V0z\" fill=\"none\"/>\n",
              "    <path d=\"M18.56 5.44l.94 2.06.94-2.06 2.06-.94-2.06-.94-.94-2.06-.94 2.06-2.06.94zm-11 1L8.5 8.5l.94-2.06 2.06-.94-2.06-.94L8.5 2.5l-.94 2.06-2.06.94zm10 10l.94 2.06.94-2.06 2.06-.94-2.06-.94-.94-2.06-.94 2.06-2.06.94z\"/><path d=\"M17.41 7.96l-1.37-1.37c-.4-.4-.92-.59-1.43-.59-.52 0-1.04.2-1.43.59L10.3 9.45l-7.72 7.72c-.78.78-.78 2.05 0 2.83L4 21.41c.39.39.9.59 1.41.59.51 0 1.02-.2 1.41-.59l7.78-7.78 2.81-2.81c.8-.78.8-2.07 0-2.86zM5.41 20L4 18.59l7.72-7.72 1.47 1.35L5.41 20z\"/>\n",
              "  </svg>\n",
              "      </button>\n",
              "      \n",
              "  <style>\n",
              "    .colab-df-container {\n",
              "      display:flex;\n",
              "      flex-wrap:wrap;\n",
              "      gap: 12px;\n",
              "    }\n",
              "\n",
              "    .colab-df-convert {\n",
              "      background-color: #E8F0FE;\n",
              "      border: none;\n",
              "      border-radius: 50%;\n",
              "      cursor: pointer;\n",
              "      display: none;\n",
              "      fill: #1967D2;\n",
              "      height: 32px;\n",
              "      padding: 0 0 0 0;\n",
              "      width: 32px;\n",
              "    }\n",
              "\n",
              "    .colab-df-convert:hover {\n",
              "      background-color: #E2EBFA;\n",
              "      box-shadow: 0px 1px 2px rgba(60, 64, 67, 0.3), 0px 1px 3px 1px rgba(60, 64, 67, 0.15);\n",
              "      fill: #174EA6;\n",
              "    }\n",
              "\n",
              "    [theme=dark] .colab-df-convert {\n",
              "      background-color: #3B4455;\n",
              "      fill: #D2E3FC;\n",
              "    }\n",
              "\n",
              "    [theme=dark] .colab-df-convert:hover {\n",
              "      background-color: #434B5C;\n",
              "      box-shadow: 0px 1px 3px 1px rgba(0, 0, 0, 0.15);\n",
              "      filter: drop-shadow(0px 1px 2px rgba(0, 0, 0, 0.3));\n",
              "      fill: #FFFFFF;\n",
              "    }\n",
              "  </style>\n",
              "\n",
              "      <script>\n",
              "        const buttonEl =\n",
              "          document.querySelector('#df-d4592f01-3fd0-4f0f-9631-ae1a31b2fe53 button.colab-df-convert');\n",
              "        buttonEl.style.display =\n",
              "          google.colab.kernel.accessAllowed ? 'block' : 'none';\n",
              "\n",
              "        async function convertToInteractive(key) {\n",
              "          const element = document.querySelector('#df-d4592f01-3fd0-4f0f-9631-ae1a31b2fe53');\n",
              "          const dataTable =\n",
              "            await google.colab.kernel.invokeFunction('convertToInteractive',\n",
              "                                                     [key], {});\n",
              "          if (!dataTable) return;\n",
              "\n",
              "          const docLinkHtml = 'Like what you see? Visit the ' +\n",
              "            '<a target=\"_blank\" href=https://colab.research.google.com/notebooks/data_table.ipynb>data table notebook</a>'\n",
              "            + ' to learn more about interactive tables.';\n",
              "          element.innerHTML = '';\n",
              "          dataTable['output_type'] = 'display_data';\n",
              "          await google.colab.output.renderOutput(dataTable, element);\n",
              "          const docLink = document.createElement('div');\n",
              "          docLink.innerHTML = docLinkHtml;\n",
              "          element.appendChild(docLink);\n",
              "        }\n",
              "      </script>\n",
              "    </div>\n",
              "  </div>\n",
              "  "
            ]
          },
          "metadata": {},
          "execution_count": 2
        }
      ]
    },
    {
      "cell_type": "markdown",
      "source": [
        "### 컬럼별 정보"
      ],
      "metadata": {
        "id": "Q6bDkp7MSdS-"
      }
    },
    {
      "cell_type": "markdown",
      "source": [
        "각 컬럼이 의미하는 내용은 다음과 같다.\n",
        "\n",
        "- pclass : 객실 등급\n",
        "- survived : 생존 유무\n",
        "- name : 칭호를 포함한 이름\n",
        "- sex : 성별\n",
        "- age : 나이\n",
        "- sibsp : 형제 혹은 부부의 수\n",
        "- parch : 부모, 혹은 자녀의 수\n",
        "- ticket : 탑승권 종류 (각 숫자가 의미하는 바는 데이터를 통해 알 수 있는 것이 없을 수 있다.)\n",
        "- fare : 지불한 운임\n",
        "- cabin : 객실정보\n",
        "- embarked : 선착장정보\n",
        "- boat : 탈출한 보트가 있다면 boat 번호\n",
        "- body : 사망자의 시신 수습 후 부여한 일련번호\n",
        "- home.dest : 출신\n"
      ],
      "metadata": {
        "id": "f2DVtlcU-bmm"
      }
    },
    {
      "cell_type": "markdown",
      "source": [
        "## 3. 데이터 전처리"
      ],
      "metadata": {
        "id": "eoDqeOxhJ8rX"
      }
    },
    {
      "cell_type": "markdown",
      "source": [
        "### 각 데이터 종류 및 결측치 확인"
      ],
      "metadata": {
        "id": "eRxGGQ5nos2P"
      }
    },
    {
      "cell_type": "markdown",
      "source": [
        "결측치가 존재하는 항목은 `age`, `fare`, `cabin`, `embarked`, `boat`, `body`, `home.dest` 정도로 확인된다.  \n",
        "여기서는 모든 컬럼을 다 활용하진 않기 때문에 일부만 처리할 예정이다."
      ],
      "metadata": {
        "id": "yiwEa-yeTIIm"
      }
    },
    {
      "cell_type": "code",
      "source": [
        "df.info()"
      ],
      "metadata": {
        "colab": {
          "base_uri": "https://localhost:8080/"
        },
        "id": "Xfp9mfLBIKFO",
        "outputId": "5de618f0-3516-4290-9c8b-a2e7b81106ab"
      },
      "execution_count": 3,
      "outputs": [
        {
          "output_type": "stream",
          "name": "stdout",
          "text": [
            "<class 'pandas.core.frame.DataFrame'>\n",
            "RangeIndex: 1309 entries, 0 to 1308\n",
            "Data columns (total 14 columns):\n",
            " #   Column     Non-Null Count  Dtype  \n",
            "---  ------     --------------  -----  \n",
            " 0   pclass     1309 non-null   int64  \n",
            " 1   survived   1309 non-null   int64  \n",
            " 2   name       1309 non-null   object \n",
            " 3   sex        1309 non-null   object \n",
            " 4   age        1046 non-null   float64\n",
            " 5   sibsp      1309 non-null   int64  \n",
            " 6   parch      1309 non-null   int64  \n",
            " 7   ticket     1309 non-null   object \n",
            " 8   fare       1308 non-null   float64\n",
            " 9   cabin      295 non-null    object \n",
            " 10  embarked   1307 non-null   object \n",
            " 11  boat       486 non-null    object \n",
            " 12  body       121 non-null    float64\n",
            " 13  home.dest  745 non-null    object \n",
            "dtypes: float64(3), int64(4), object(7)\n",
            "memory usage: 143.3+ KB\n"
          ]
        }
      ]
    },
    {
      "cell_type": "markdown",
      "source": [
        "### age"
      ],
      "metadata": {
        "id": "_d8yXhIYRY_E"
      }
    },
    {
      "cell_type": "markdown",
      "source": [
        "분석에 자주 사용되는 `age` 컬럼의 결측치는 버리지 말고 평균값, 최빈값 등으로 채워 넣어볼 수 있겠으나  \n",
        "히스토그램의 결과에 영향을 줄 수 있으므로 이 보다는 좀 더 근거에 기반한 정보가 필요하다.\n",
        "\n",
        "예를들어 `name` 과 같은 정보다. 다행히도 `name` 은 결측치가 없는 상태이다."
      ],
      "metadata": {
        "id": "xrIn63dfo1YD"
      }
    },
    {
      "cell_type": "code",
      "source": [
        "df[['name', 'age']].head()"
      ],
      "metadata": {
        "colab": {
          "base_uri": "https://localhost:8080/",
          "height": 206
        },
        "id": "z82-bKVKMohV",
        "outputId": "3208947b-8473-4779-b988-6d4aacb7e647"
      },
      "execution_count": 4,
      "outputs": [
        {
          "output_type": "execute_result",
          "data": {
            "text/plain": [
              "                                              name    age\n",
              "0                    Allen, Miss. Elisabeth Walton  29.00\n",
              "1                   Allison, Master. Hudson Trevor   0.92\n",
              "2                     Allison, Miss. Helen Loraine   2.00\n",
              "3             Allison, Mr. Hudson Joshua Creighton  30.00\n",
              "4  Allison, Mrs. Hudson J C (Bessie Waldo Daniels)  25.00"
            ],
            "text/html": [
              "\n",
              "  <div id=\"df-a0116b16-a091-4baa-9bc1-693471d4d5e9\">\n",
              "    <div class=\"colab-df-container\">\n",
              "      <div>\n",
              "<style scoped>\n",
              "    .dataframe tbody tr th:only-of-type {\n",
              "        vertical-align: middle;\n",
              "    }\n",
              "\n",
              "    .dataframe tbody tr th {\n",
              "        vertical-align: top;\n",
              "    }\n",
              "\n",
              "    .dataframe thead th {\n",
              "        text-align: right;\n",
              "    }\n",
              "</style>\n",
              "<table border=\"1\" class=\"dataframe\">\n",
              "  <thead>\n",
              "    <tr style=\"text-align: right;\">\n",
              "      <th></th>\n",
              "      <th>name</th>\n",
              "      <th>age</th>\n",
              "    </tr>\n",
              "  </thead>\n",
              "  <tbody>\n",
              "    <tr>\n",
              "      <th>0</th>\n",
              "      <td>Allen, Miss. Elisabeth Walton</td>\n",
              "      <td>29.00</td>\n",
              "    </tr>\n",
              "    <tr>\n",
              "      <th>1</th>\n",
              "      <td>Allison, Master. Hudson Trevor</td>\n",
              "      <td>0.92</td>\n",
              "    </tr>\n",
              "    <tr>\n",
              "      <th>2</th>\n",
              "      <td>Allison, Miss. Helen Loraine</td>\n",
              "      <td>2.00</td>\n",
              "    </tr>\n",
              "    <tr>\n",
              "      <th>3</th>\n",
              "      <td>Allison, Mr. Hudson Joshua Creighton</td>\n",
              "      <td>30.00</td>\n",
              "    </tr>\n",
              "    <tr>\n",
              "      <th>4</th>\n",
              "      <td>Allison, Mrs. Hudson J C (Bessie Waldo Daniels)</td>\n",
              "      <td>25.00</td>\n",
              "    </tr>\n",
              "  </tbody>\n",
              "</table>\n",
              "</div>\n",
              "      <button class=\"colab-df-convert\" onclick=\"convertToInteractive('df-a0116b16-a091-4baa-9bc1-693471d4d5e9')\"\n",
              "              title=\"Convert this dataframe to an interactive table.\"\n",
              "              style=\"display:none;\">\n",
              "        \n",
              "  <svg xmlns=\"http://www.w3.org/2000/svg\" height=\"24px\"viewBox=\"0 0 24 24\"\n",
              "       width=\"24px\">\n",
              "    <path d=\"M0 0h24v24H0V0z\" fill=\"none\"/>\n",
              "    <path d=\"M18.56 5.44l.94 2.06.94-2.06 2.06-.94-2.06-.94-.94-2.06-.94 2.06-2.06.94zm-11 1L8.5 8.5l.94-2.06 2.06-.94-2.06-.94L8.5 2.5l-.94 2.06-2.06.94zm10 10l.94 2.06.94-2.06 2.06-.94-2.06-.94-.94-2.06-.94 2.06-2.06.94z\"/><path d=\"M17.41 7.96l-1.37-1.37c-.4-.4-.92-.59-1.43-.59-.52 0-1.04.2-1.43.59L10.3 9.45l-7.72 7.72c-.78.78-.78 2.05 0 2.83L4 21.41c.39.39.9.59 1.41.59.51 0 1.02-.2 1.41-.59l7.78-7.78 2.81-2.81c.8-.78.8-2.07 0-2.86zM5.41 20L4 18.59l7.72-7.72 1.47 1.35L5.41 20z\"/>\n",
              "  </svg>\n",
              "      </button>\n",
              "      \n",
              "  <style>\n",
              "    .colab-df-container {\n",
              "      display:flex;\n",
              "      flex-wrap:wrap;\n",
              "      gap: 12px;\n",
              "    }\n",
              "\n",
              "    .colab-df-convert {\n",
              "      background-color: #E8F0FE;\n",
              "      border: none;\n",
              "      border-radius: 50%;\n",
              "      cursor: pointer;\n",
              "      display: none;\n",
              "      fill: #1967D2;\n",
              "      height: 32px;\n",
              "      padding: 0 0 0 0;\n",
              "      width: 32px;\n",
              "    }\n",
              "\n",
              "    .colab-df-convert:hover {\n",
              "      background-color: #E2EBFA;\n",
              "      box-shadow: 0px 1px 2px rgba(60, 64, 67, 0.3), 0px 1px 3px 1px rgba(60, 64, 67, 0.15);\n",
              "      fill: #174EA6;\n",
              "    }\n",
              "\n",
              "    [theme=dark] .colab-df-convert {\n",
              "      background-color: #3B4455;\n",
              "      fill: #D2E3FC;\n",
              "    }\n",
              "\n",
              "    [theme=dark] .colab-df-convert:hover {\n",
              "      background-color: #434B5C;\n",
              "      box-shadow: 0px 1px 3px 1px rgba(0, 0, 0, 0.15);\n",
              "      filter: drop-shadow(0px 1px 2px rgba(0, 0, 0, 0.3));\n",
              "      fill: #FFFFFF;\n",
              "    }\n",
              "  </style>\n",
              "\n",
              "      <script>\n",
              "        const buttonEl =\n",
              "          document.querySelector('#df-a0116b16-a091-4baa-9bc1-693471d4d5e9 button.colab-df-convert');\n",
              "        buttonEl.style.display =\n",
              "          google.colab.kernel.accessAllowed ? 'block' : 'none';\n",
              "\n",
              "        async function convertToInteractive(key) {\n",
              "          const element = document.querySelector('#df-a0116b16-a091-4baa-9bc1-693471d4d5e9');\n",
              "          const dataTable =\n",
              "            await google.colab.kernel.invokeFunction('convertToInteractive',\n",
              "                                                     [key], {});\n",
              "          if (!dataTable) return;\n",
              "\n",
              "          const docLinkHtml = 'Like what you see? Visit the ' +\n",
              "            '<a target=\"_blank\" href=https://colab.research.google.com/notebooks/data_table.ipynb>data table notebook</a>'\n",
              "            + ' to learn more about interactive tables.';\n",
              "          element.innerHTML = '';\n",
              "          dataTable['output_type'] = 'display_data';\n",
              "          await google.colab.output.renderOutput(dataTable, element);\n",
              "          const docLink = document.createElement('div');\n",
              "          docLink.innerHTML = docLinkHtml;\n",
              "          element.appendChild(docLink);\n",
              "        }\n",
              "      </script>\n",
              "    </div>\n",
              "  </div>\n",
              "  "
            ]
          },
          "metadata": {},
          "execution_count": 4
        }
      ]
    },
    {
      "cell_type": "markdown",
      "source": [
        "이들의 `name` 에는 공통되는 패턴이 보이는데, 바로 이름 중간에 Mr, Mrs, Miss, Master 등의 칭호가 기재되어 있다는 점이다."
      ],
      "metadata": {
        "id": "W3ygzddOORyK"
      }
    },
    {
      "cell_type": "code",
      "source": [
        "df['name'].apply(lambda x: x.split(' ')[1]).unique()"
      ],
      "metadata": {
        "colab": {
          "base_uri": "https://localhost:8080/"
        },
        "id": "BdsGOnYgNTo2",
        "outputId": "b7d2dbda-b35e-4bec-8e27-b03f5fc32e19"
      },
      "execution_count": 5,
      "outputs": [
        {
          "output_type": "execute_result",
          "data": {
            "text/plain": [
              "array(['Miss.', 'Master.', 'Mr.', 'Mrs.', 'Col.', 'Mme.', 'Dr.', 'Major.',\n",
              "       'Capt.', 'Gordon,', 'Mlle.', 'y', 'Jonkheer.', 'the', 'Don.',\n",
              "       'der', 'Rev.', 'Brito,', 'Carlo,', 'Ms.', 'Khalil,',\n",
              "       'Messemaeker,', 'Mulder,', 'Pelsmaeker,', 'Shawah,', 'Palmquist,',\n",
              "       'Billiard,', 'Impe,', 'Melkebeke,', 'Velde,', 'Walle,', 'Steen,',\n",
              "       'Cruyssen,', 'Planke,'], dtype=object)"
            ]
          },
          "metadata": {},
          "execution_count": 5
        }
      ]
    },
    {
      "cell_type": "markdown",
      "source": [
        "위 같은 접근도 나쁘진 않으나 더 정확한 표현은 정규식을 통해 `XXX.` 형태의 문자열을 뽑아보는 것이다."
      ],
      "metadata": {
        "id": "qU5gqEcTUlw-"
      }
    },
    {
      "cell_type": "code",
      "source": [
        "df['name'].str.extract('([A-Za-z]+)\\.')[0].unique()"
      ],
      "metadata": {
        "colab": {
          "base_uri": "https://localhost:8080/"
        },
        "id": "nvssiYosPbsU",
        "outputId": "208fc155-c01d-45f7-f43f-ed4df0844c06"
      },
      "execution_count": 6,
      "outputs": [
        {
          "output_type": "execute_result",
          "data": {
            "text/plain": [
              "array(['Miss', 'Master', 'Mr', 'Mrs', 'Col', 'Mme', 'Dr', 'Major', 'Capt',\n",
              "       'Lady', 'Sir', 'Mlle', 'Dona', 'Jonkheer', 'Countess', 'Don',\n",
              "       'Rev', 'Ms'], dtype=object)"
            ]
          },
          "metadata": {},
          "execution_count": 6
        }
      ]
    },
    {
      "cell_type": "code",
      "source": [
        "df['name2'] = df['name'].str.extract('([A-Za-z]+)\\.')[0]"
      ],
      "metadata": {
        "id": "vvLuYoQeWFrZ"
      },
      "execution_count": 7,
      "outputs": []
    },
    {
      "cell_type": "markdown",
      "source": [
        "이들에 대해 주로 어떤 성별에 대한 호칭으로 나타나는지 살펴보면 다음과 같다."
      ],
      "metadata": {
        "id": "jYbLDDGpO2N9"
      }
    },
    {
      "cell_type": "code",
      "source": [
        "pd.crosstab(df['name2'], df['sex']).T.style.background_gradient()"
      ],
      "metadata": {
        "id": "r_vYF41PriVy",
        "colab": {
          "base_uri": "https://localhost:8080/",
          "height": 143
        },
        "outputId": "0052451a-085d-4e20-a2dd-39d5de78e908"
      },
      "execution_count": 8,
      "outputs": [
        {
          "output_type": "execute_result",
          "data": {
            "text/plain": [
              "<pandas.io.formats.style.Styler at 0x7f21dc8ea9d0>"
            ],
            "text/html": [
              "<style type=\"text/css\">\n",
              "#T_99cec_row0_col0, #T_99cec_row0_col1, #T_99cec_row0_col3, #T_99cec_row0_col5, #T_99cec_row0_col6, #T_99cec_row0_col8, #T_99cec_row0_col9, #T_99cec_row0_col13, #T_99cec_row0_col16, #T_99cec_row0_col17, #T_99cec_row1_col2, #T_99cec_row1_col4, #T_99cec_row1_col7, #T_99cec_row1_col10, #T_99cec_row1_col11, #T_99cec_row1_col12, #T_99cec_row1_col14, #T_99cec_row1_col15 {\n",
              "  background-color: #fff7fb;\n",
              "  color: #000000;\n",
              "}\n",
              "#T_99cec_row0_col2, #T_99cec_row0_col4, #T_99cec_row0_col7, #T_99cec_row0_col10, #T_99cec_row0_col11, #T_99cec_row0_col12, #T_99cec_row0_col14, #T_99cec_row0_col15, #T_99cec_row1_col0, #T_99cec_row1_col1, #T_99cec_row1_col3, #T_99cec_row1_col5, #T_99cec_row1_col6, #T_99cec_row1_col8, #T_99cec_row1_col9, #T_99cec_row1_col13, #T_99cec_row1_col16, #T_99cec_row1_col17 {\n",
              "  background-color: #023858;\n",
              "  color: #f1f1f1;\n",
              "}\n",
              "</style>\n",
              "<table id=\"T_99cec_\" class=\"dataframe\">\n",
              "  <thead>\n",
              "    <tr>\n",
              "      <th class=\"index_name level0\" >name2</th>\n",
              "      <th class=\"col_heading level0 col0\" >Capt</th>\n",
              "      <th class=\"col_heading level0 col1\" >Col</th>\n",
              "      <th class=\"col_heading level0 col2\" >Countess</th>\n",
              "      <th class=\"col_heading level0 col3\" >Don</th>\n",
              "      <th class=\"col_heading level0 col4\" >Dona</th>\n",
              "      <th class=\"col_heading level0 col5\" >Dr</th>\n",
              "      <th class=\"col_heading level0 col6\" >Jonkheer</th>\n",
              "      <th class=\"col_heading level0 col7\" >Lady</th>\n",
              "      <th class=\"col_heading level0 col8\" >Major</th>\n",
              "      <th class=\"col_heading level0 col9\" >Master</th>\n",
              "      <th class=\"col_heading level0 col10\" >Miss</th>\n",
              "      <th class=\"col_heading level0 col11\" >Mlle</th>\n",
              "      <th class=\"col_heading level0 col12\" >Mme</th>\n",
              "      <th class=\"col_heading level0 col13\" >Mr</th>\n",
              "      <th class=\"col_heading level0 col14\" >Mrs</th>\n",
              "      <th class=\"col_heading level0 col15\" >Ms</th>\n",
              "      <th class=\"col_heading level0 col16\" >Rev</th>\n",
              "      <th class=\"col_heading level0 col17\" >Sir</th>\n",
              "    </tr>\n",
              "    <tr>\n",
              "      <th class=\"index_name level0\" >sex</th>\n",
              "      <th class=\"blank col0\" >&nbsp;</th>\n",
              "      <th class=\"blank col1\" >&nbsp;</th>\n",
              "      <th class=\"blank col2\" >&nbsp;</th>\n",
              "      <th class=\"blank col3\" >&nbsp;</th>\n",
              "      <th class=\"blank col4\" >&nbsp;</th>\n",
              "      <th class=\"blank col5\" >&nbsp;</th>\n",
              "      <th class=\"blank col6\" >&nbsp;</th>\n",
              "      <th class=\"blank col7\" >&nbsp;</th>\n",
              "      <th class=\"blank col8\" >&nbsp;</th>\n",
              "      <th class=\"blank col9\" >&nbsp;</th>\n",
              "      <th class=\"blank col10\" >&nbsp;</th>\n",
              "      <th class=\"blank col11\" >&nbsp;</th>\n",
              "      <th class=\"blank col12\" >&nbsp;</th>\n",
              "      <th class=\"blank col13\" >&nbsp;</th>\n",
              "      <th class=\"blank col14\" >&nbsp;</th>\n",
              "      <th class=\"blank col15\" >&nbsp;</th>\n",
              "      <th class=\"blank col16\" >&nbsp;</th>\n",
              "      <th class=\"blank col17\" >&nbsp;</th>\n",
              "    </tr>\n",
              "  </thead>\n",
              "  <tbody>\n",
              "    <tr>\n",
              "      <th id=\"T_99cec_level0_row0\" class=\"row_heading level0 row0\" >female</th>\n",
              "      <td id=\"T_99cec_row0_col0\" class=\"data row0 col0\" >0</td>\n",
              "      <td id=\"T_99cec_row0_col1\" class=\"data row0 col1\" >0</td>\n",
              "      <td id=\"T_99cec_row0_col2\" class=\"data row0 col2\" >1</td>\n",
              "      <td id=\"T_99cec_row0_col3\" class=\"data row0 col3\" >0</td>\n",
              "      <td id=\"T_99cec_row0_col4\" class=\"data row0 col4\" >1</td>\n",
              "      <td id=\"T_99cec_row0_col5\" class=\"data row0 col5\" >1</td>\n",
              "      <td id=\"T_99cec_row0_col6\" class=\"data row0 col6\" >0</td>\n",
              "      <td id=\"T_99cec_row0_col7\" class=\"data row0 col7\" >1</td>\n",
              "      <td id=\"T_99cec_row0_col8\" class=\"data row0 col8\" >0</td>\n",
              "      <td id=\"T_99cec_row0_col9\" class=\"data row0 col9\" >0</td>\n",
              "      <td id=\"T_99cec_row0_col10\" class=\"data row0 col10\" >260</td>\n",
              "      <td id=\"T_99cec_row0_col11\" class=\"data row0 col11\" >2</td>\n",
              "      <td id=\"T_99cec_row0_col12\" class=\"data row0 col12\" >1</td>\n",
              "      <td id=\"T_99cec_row0_col13\" class=\"data row0 col13\" >0</td>\n",
              "      <td id=\"T_99cec_row0_col14\" class=\"data row0 col14\" >197</td>\n",
              "      <td id=\"T_99cec_row0_col15\" class=\"data row0 col15\" >2</td>\n",
              "      <td id=\"T_99cec_row0_col16\" class=\"data row0 col16\" >0</td>\n",
              "      <td id=\"T_99cec_row0_col17\" class=\"data row0 col17\" >0</td>\n",
              "    </tr>\n",
              "    <tr>\n",
              "      <th id=\"T_99cec_level0_row1\" class=\"row_heading level0 row1\" >male</th>\n",
              "      <td id=\"T_99cec_row1_col0\" class=\"data row1 col0\" >1</td>\n",
              "      <td id=\"T_99cec_row1_col1\" class=\"data row1 col1\" >4</td>\n",
              "      <td id=\"T_99cec_row1_col2\" class=\"data row1 col2\" >0</td>\n",
              "      <td id=\"T_99cec_row1_col3\" class=\"data row1 col3\" >1</td>\n",
              "      <td id=\"T_99cec_row1_col4\" class=\"data row1 col4\" >0</td>\n",
              "      <td id=\"T_99cec_row1_col5\" class=\"data row1 col5\" >7</td>\n",
              "      <td id=\"T_99cec_row1_col6\" class=\"data row1 col6\" >1</td>\n",
              "      <td id=\"T_99cec_row1_col7\" class=\"data row1 col7\" >0</td>\n",
              "      <td id=\"T_99cec_row1_col8\" class=\"data row1 col8\" >2</td>\n",
              "      <td id=\"T_99cec_row1_col9\" class=\"data row1 col9\" >61</td>\n",
              "      <td id=\"T_99cec_row1_col10\" class=\"data row1 col10\" >0</td>\n",
              "      <td id=\"T_99cec_row1_col11\" class=\"data row1 col11\" >0</td>\n",
              "      <td id=\"T_99cec_row1_col12\" class=\"data row1 col12\" >0</td>\n",
              "      <td id=\"T_99cec_row1_col13\" class=\"data row1 col13\" >757</td>\n",
              "      <td id=\"T_99cec_row1_col14\" class=\"data row1 col14\" >0</td>\n",
              "      <td id=\"T_99cec_row1_col15\" class=\"data row1 col15\" >0</td>\n",
              "      <td id=\"T_99cec_row1_col16\" class=\"data row1 col16\" >8</td>\n",
              "      <td id=\"T_99cec_row1_col17\" class=\"data row1 col17\" >1</td>\n",
              "    </tr>\n",
              "  </tbody>\n",
              "</table>\n"
            ]
          },
          "metadata": {},
          "execution_count": 8
        }
      ]
    },
    {
      "cell_type": "markdown",
      "source": [
        "각 칭호가 의미하는 바는 다음과 같다.\n",
        "\n",
        "- Capt : Captain (군사 칭호)\n",
        "- Col : Colonel (군사 칭호, 신사)\n",
        "- Countess : 여백작, 백작부인\n",
        "- Don : 남부유럽, 중남미에서 상대 남성의 존칭\n",
        "- Dona : 남부유럽, 중남미에서 상대 여성의 존칭\n",
        "- Dr : 박사, 의사\n",
        "- Jonkheer : 작위\n",
        "- Lady : 귀족 여성\n",
        "- Major : 원사 (군사 칭호)\n",
        "- Master : 주인, 석사 (?)\n",
        "- Miss : 결혼하지 않은 여성\n",
        "- Mlle : 마드무아젤\n",
        "- Mme : 마담\n",
        "- Mr : (결혼 여부와 상관없이) 남성\n",
        "- Mrs : 결혼한 여성\n",
        "- Ms : (결혼 여부와 상관없이) 여성\n",
        "- Rev : 성직자\n",
        "- Sir : 작위를 받은 남성, 윗 사람을 부르거나 상대를 존중하는 표현\n",
        "\n",
        "\n",
        "\n",
        "분석하기에는 분류가 많으므로 이들을 축약시킬 필요가 있어 보이는데  \n",
        "가장 많이 쓰이는 순인 Mr, Miss, Mrs, Master 4가지 와 나머지를 포함한 Other 로 그룹화 하면 될 것 같다."
      ],
      "metadata": {
        "id": "tXPr6inVQ7Wc"
      }
    },
    {
      "cell_type": "code",
      "source": [
        "df['name2'].replace(\n",
        "    ['Capt', 'Col', 'Countess', 'Don', 'Dona', 'Dr', 'Jonkheer', 'Lady', 'Major', 'Mlle', 'Mme', 'Ms', 'Rev', 'Sir'],\n",
        "    ['Mr', 'Other', 'Mrs', 'Mr', 'Mrs', 'Other', 'Other', 'Mrs', 'Mr', 'Miss', 'Mrs', 'Miss', 'Other', 'Mr'],\n",
        "    inplace=True)"
      ],
      "metadata": {
        "id": "MwstAj7-RTpr"
      },
      "execution_count": 9,
      "outputs": []
    },
    {
      "cell_type": "code",
      "source": [
        "pd.crosstab(df['name2'], df['sex']).T.style.background_gradient()"
      ],
      "metadata": {
        "colab": {
          "base_uri": "https://localhost:8080/",
          "height": 143
        },
        "id": "Buo94T-Jfd9-",
        "outputId": "6a75a4d5-3ca8-428a-a53e-f7770205cb94"
      },
      "execution_count": 10,
      "outputs": [
        {
          "output_type": "execute_result",
          "data": {
            "text/plain": [
              "<pandas.io.formats.style.Styler at 0x7f21c3497090>"
            ],
            "text/html": [
              "<style type=\"text/css\">\n",
              "#T_4602a_row0_col0, #T_4602a_row0_col2, #T_4602a_row0_col4, #T_4602a_row1_col1, #T_4602a_row1_col3 {\n",
              "  background-color: #fff7fb;\n",
              "  color: #000000;\n",
              "}\n",
              "#T_4602a_row0_col1, #T_4602a_row0_col3, #T_4602a_row1_col0, #T_4602a_row1_col2, #T_4602a_row1_col4 {\n",
              "  background-color: #023858;\n",
              "  color: #f1f1f1;\n",
              "}\n",
              "</style>\n",
              "<table id=\"T_4602a_\" class=\"dataframe\">\n",
              "  <thead>\n",
              "    <tr>\n",
              "      <th class=\"index_name level0\" >name2</th>\n",
              "      <th class=\"col_heading level0 col0\" >Master</th>\n",
              "      <th class=\"col_heading level0 col1\" >Miss</th>\n",
              "      <th class=\"col_heading level0 col2\" >Mr</th>\n",
              "      <th class=\"col_heading level0 col3\" >Mrs</th>\n",
              "      <th class=\"col_heading level0 col4\" >Other</th>\n",
              "    </tr>\n",
              "    <tr>\n",
              "      <th class=\"index_name level0\" >sex</th>\n",
              "      <th class=\"blank col0\" >&nbsp;</th>\n",
              "      <th class=\"blank col1\" >&nbsp;</th>\n",
              "      <th class=\"blank col2\" >&nbsp;</th>\n",
              "      <th class=\"blank col3\" >&nbsp;</th>\n",
              "      <th class=\"blank col4\" >&nbsp;</th>\n",
              "    </tr>\n",
              "  </thead>\n",
              "  <tbody>\n",
              "    <tr>\n",
              "      <th id=\"T_4602a_level0_row0\" class=\"row_heading level0 row0\" >female</th>\n",
              "      <td id=\"T_4602a_row0_col0\" class=\"data row0 col0\" >0</td>\n",
              "      <td id=\"T_4602a_row0_col1\" class=\"data row0 col1\" >264</td>\n",
              "      <td id=\"T_4602a_row0_col2\" class=\"data row0 col2\" >0</td>\n",
              "      <td id=\"T_4602a_row0_col3\" class=\"data row0 col3\" >201</td>\n",
              "      <td id=\"T_4602a_row0_col4\" class=\"data row0 col4\" >1</td>\n",
              "    </tr>\n",
              "    <tr>\n",
              "      <th id=\"T_4602a_level0_row1\" class=\"row_heading level0 row1\" >male</th>\n",
              "      <td id=\"T_4602a_row1_col0\" class=\"data row1 col0\" >61</td>\n",
              "      <td id=\"T_4602a_row1_col1\" class=\"data row1 col1\" >0</td>\n",
              "      <td id=\"T_4602a_row1_col2\" class=\"data row1 col2\" >762</td>\n",
              "      <td id=\"T_4602a_row1_col3\" class=\"data row1 col3\" >0</td>\n",
              "      <td id=\"T_4602a_row1_col4\" class=\"data row1 col4\" >20</td>\n",
              "    </tr>\n",
              "  </tbody>\n",
              "</table>\n"
            ]
          },
          "metadata": {},
          "execution_count": 10
        }
      ]
    },
    {
      "cell_type": "markdown",
      "source": [
        "이제 축약된 분류별로 나이의 평균을 구해볼 수 있다.\n",
        "\n",
        "> 여기서 Master 칭호가 위에서 검색했을 때 주인, 석사에 대한 칭호로 나왔었는데  \n",
        "평균나이가 5살인걸 보면 오타라기 보단 61개의 데이터인걸 보아 어린아이를 칭하는 의미도 있었던 것 같다."
      ],
      "metadata": {
        "id": "10jmlPXlf-Mz"
      }
    },
    {
      "cell_type": "code",
      "source": [
        "df.groupby('name2')['age'].mean()"
      ],
      "metadata": {
        "colab": {
          "base_uri": "https://localhost:8080/"
        },
        "id": "fmLA3-GNf147",
        "outputId": "9d83e607-68b7-485a-be17-a9e17f7c5c14"
      },
      "execution_count": 11,
      "outputs": [
        {
          "output_type": "execute_result",
          "data": {
            "text/plain": [
              "name2\n",
              "Master     5.482642\n",
              "Miss      21.824366\n",
              "Mr        32.413823\n",
              "Mrs       36.971264\n",
              "Other     44.450000\n",
              "Name: age, dtype: float64"
            ]
          },
          "metadata": {},
          "execution_count": 11
        }
      ]
    },
    {
      "cell_type": "markdown",
      "source": [
        "위에서 구한 분류별 평균값을 이용하여 결측치를 채워넣으면 되겠다."
      ],
      "metadata": {
        "id": "LpqZ8FmggsZc"
      }
    },
    {
      "cell_type": "code",
      "source": [
        "s = df.groupby('name2')['age'].mean()\n",
        "\n",
        "for idx, val in s.iteritems():\n",
        "  df.loc[(df['age'].isnull()) & (df['name2'] == idx), 'age'] = val"
      ],
      "metadata": {
        "id": "ZfHdS09fg5OU"
      },
      "execution_count": 12,
      "outputs": []
    },
    {
      "cell_type": "code",
      "source": [
        "df['age'].isnull().sum()"
      ],
      "metadata": {
        "colab": {
          "base_uri": "https://localhost:8080/"
        },
        "id": "OvTDaSsFiE64",
        "outputId": "95a8dbb2-11b0-48b2-fb24-382d41d48f19"
      },
      "execution_count": 13,
      "outputs": [
        {
          "output_type": "execute_result",
          "data": {
            "text/plain": [
              "0"
            ]
          },
          "metadata": {},
          "execution_count": 13
        }
      ]
    },
    {
      "cell_type": "markdown",
      "source": [
        "이후 `name` 은 `name2` 로 대체가 가능하므로 더 이상 필요없는 정보라고 봐도 무방할 듯 하다."
      ],
      "metadata": {
        "id": "RGBDkhG3okEe"
      }
    },
    {
      "cell_type": "code",
      "source": [
        "df.drop('name', axis=1, inplace=True)"
      ],
      "metadata": {
        "id": "4ujIoACoo-dC"
      },
      "execution_count": 14,
      "outputs": []
    },
    {
      "cell_type": "code",
      "source": [
        "# name2 로 둘빠에 name 으로 바꿔주는게 보기 좋다.\n",
        "df.rename(columns={'name2': 'name'}, inplace=True)"
      ],
      "metadata": {
        "id": "z5kEOlYzpRoC"
      },
      "execution_count": 15,
      "outputs": []
    },
    {
      "cell_type": "markdown",
      "source": [
        "### 의미가 없을 것 같은 boat, body"
      ],
      "metadata": {
        "id": "aggQBIRSRQ-r"
      }
    },
    {
      "cell_type": "markdown",
      "source": [
        "생존률에 대해 관련이 없어보이는 `boat`, `body` 컬럼은  \n",
        "향후 불필요한 데이터 로딩에 있어 성능에 영향을 줄 수 있으므로 제거한다."
      ],
      "metadata": {
        "id": "fgbh8wBDpax3"
      }
    },
    {
      "cell_type": "code",
      "source": [
        "df.drop('boat', axis=1, inplace=True)\n",
        "df.drop('body', axis=1, inplace=True)"
      ],
      "metadata": {
        "id": "mH9N4lZTy7yi"
      },
      "execution_count": 16,
      "outputs": []
    },
    {
      "cell_type": "markdown",
      "source": [
        "### 결측치가 많은 cabin"
      ],
      "metadata": {
        "id": "DNpO3vaqRrh8"
      }
    },
    {
      "cell_type": "markdown",
      "source": [
        "`cabin` 또한 결측치가 상당히 많은데 버리진 말고 존재하는 데이터만으로 활용해보기로 한다."
      ],
      "metadata": {
        "id": "HIHKO1MT_p9T"
      }
    },
    {
      "cell_type": "markdown",
      "source": [
        "### 전처리 확인"
      ],
      "metadata": {
        "id": "SCchsVIjR0Dq"
      }
    },
    {
      "cell_type": "markdown",
      "source": [
        "처리되지 않은 나머지 결측치는 문자열 정보이므로 \"Unknown\" 등으로 대체해도 되나  \n",
        "`isnull()` 필터 조건을 통해 유효한 값만 골라낼 수 있으므로 보류한다."
      ],
      "metadata": {
        "id": "uxw1n7cXpuDt"
      }
    },
    {
      "cell_type": "code",
      "source": [
        "df.info()"
      ],
      "metadata": {
        "colab": {
          "base_uri": "https://localhost:8080/"
        },
        "id": "YQM6_kEN0A4T",
        "outputId": "8510bc4d-caba-46e3-83f5-1a560d9a97c4"
      },
      "execution_count": 17,
      "outputs": [
        {
          "output_type": "stream",
          "name": "stdout",
          "text": [
            "<class 'pandas.core.frame.DataFrame'>\n",
            "RangeIndex: 1309 entries, 0 to 1308\n",
            "Data columns (total 12 columns):\n",
            " #   Column     Non-Null Count  Dtype  \n",
            "---  ------     --------------  -----  \n",
            " 0   pclass     1309 non-null   int64  \n",
            " 1   survived   1309 non-null   int64  \n",
            " 2   sex        1309 non-null   object \n",
            " 3   age        1309 non-null   float64\n",
            " 4   sibsp      1309 non-null   int64  \n",
            " 5   parch      1309 non-null   int64  \n",
            " 6   ticket     1309 non-null   object \n",
            " 7   fare       1308 non-null   float64\n",
            " 8   cabin      295 non-null    object \n",
            " 9   embarked   1307 non-null   object \n",
            " 10  home.dest  745 non-null    object \n",
            " 11  name       1309 non-null   object \n",
            "dtypes: float64(2), int64(4), object(6)\n",
            "memory usage: 122.8+ KB\n"
          ]
        }
      ]
    },
    {
      "cell_type": "markdown",
      "source": [
        "## 4. 데이터 분석"
      ],
      "metadata": {
        "id": "CN2gwUqKrAMK"
      }
    },
    {
      "cell_type": "markdown",
      "source": [
        "### 참고용 정보"
      ],
      "metadata": {
        "id": "76ai4wOHrqMz"
      }
    },
    {
      "cell_type": "markdown",
      "source": [
        "기초 통계량"
      ],
      "metadata": {
        "id": "qk1Arub-_Ppt"
      }
    },
    {
      "cell_type": "code",
      "source": [
        "df.describe()"
      ],
      "metadata": {
        "colab": {
          "base_uri": "https://localhost:8080/",
          "height": 300
        },
        "id": "bgOkGWdVIdTq",
        "outputId": "2949c54c-a5d4-4c01-d512-0da0b6aa694b"
      },
      "execution_count": 18,
      "outputs": [
        {
          "output_type": "execute_result",
          "data": {
            "text/plain": [
              "            pclass     survived          age        sibsp        parch  \\\n",
              "count  1309.000000  1309.000000  1309.000000  1309.000000  1309.000000   \n",
              "mean      2.294882     0.381971    29.916028     0.498854     0.385027   \n",
              "std       0.837836     0.486055    13.198878     1.041658     0.865560   \n",
              "min       1.000000     0.000000     0.170000     0.000000     0.000000   \n",
              "25%       2.000000     0.000000    21.824366     0.000000     0.000000   \n",
              "50%       3.000000     0.000000    30.000000     0.000000     0.000000   \n",
              "75%       3.000000     1.000000    36.000000     1.000000     0.000000   \n",
              "max       3.000000     1.000000    80.000000     8.000000     9.000000   \n",
              "\n",
              "              fare  \n",
              "count  1308.000000  \n",
              "mean     33.295479  \n",
              "std      51.758668  \n",
              "min       0.000000  \n",
              "25%       7.895800  \n",
              "50%      14.454200  \n",
              "75%      31.275000  \n",
              "max     512.329200  "
            ],
            "text/html": [
              "\n",
              "  <div id=\"df-e5dabfe0-b9d4-4211-b96c-5786820a2ca6\">\n",
              "    <div class=\"colab-df-container\">\n",
              "      <div>\n",
              "<style scoped>\n",
              "    .dataframe tbody tr th:only-of-type {\n",
              "        vertical-align: middle;\n",
              "    }\n",
              "\n",
              "    .dataframe tbody tr th {\n",
              "        vertical-align: top;\n",
              "    }\n",
              "\n",
              "    .dataframe thead th {\n",
              "        text-align: right;\n",
              "    }\n",
              "</style>\n",
              "<table border=\"1\" class=\"dataframe\">\n",
              "  <thead>\n",
              "    <tr style=\"text-align: right;\">\n",
              "      <th></th>\n",
              "      <th>pclass</th>\n",
              "      <th>survived</th>\n",
              "      <th>age</th>\n",
              "      <th>sibsp</th>\n",
              "      <th>parch</th>\n",
              "      <th>fare</th>\n",
              "    </tr>\n",
              "  </thead>\n",
              "  <tbody>\n",
              "    <tr>\n",
              "      <th>count</th>\n",
              "      <td>1309.000000</td>\n",
              "      <td>1309.000000</td>\n",
              "      <td>1309.000000</td>\n",
              "      <td>1309.000000</td>\n",
              "      <td>1309.000000</td>\n",
              "      <td>1308.000000</td>\n",
              "    </tr>\n",
              "    <tr>\n",
              "      <th>mean</th>\n",
              "      <td>2.294882</td>\n",
              "      <td>0.381971</td>\n",
              "      <td>29.916028</td>\n",
              "      <td>0.498854</td>\n",
              "      <td>0.385027</td>\n",
              "      <td>33.295479</td>\n",
              "    </tr>\n",
              "    <tr>\n",
              "      <th>std</th>\n",
              "      <td>0.837836</td>\n",
              "      <td>0.486055</td>\n",
              "      <td>13.198878</td>\n",
              "      <td>1.041658</td>\n",
              "      <td>0.865560</td>\n",
              "      <td>51.758668</td>\n",
              "    </tr>\n",
              "    <tr>\n",
              "      <th>min</th>\n",
              "      <td>1.000000</td>\n",
              "      <td>0.000000</td>\n",
              "      <td>0.170000</td>\n",
              "      <td>0.000000</td>\n",
              "      <td>0.000000</td>\n",
              "      <td>0.000000</td>\n",
              "    </tr>\n",
              "    <tr>\n",
              "      <th>25%</th>\n",
              "      <td>2.000000</td>\n",
              "      <td>0.000000</td>\n",
              "      <td>21.824366</td>\n",
              "      <td>0.000000</td>\n",
              "      <td>0.000000</td>\n",
              "      <td>7.895800</td>\n",
              "    </tr>\n",
              "    <tr>\n",
              "      <th>50%</th>\n",
              "      <td>3.000000</td>\n",
              "      <td>0.000000</td>\n",
              "      <td>30.000000</td>\n",
              "      <td>0.000000</td>\n",
              "      <td>0.000000</td>\n",
              "      <td>14.454200</td>\n",
              "    </tr>\n",
              "    <tr>\n",
              "      <th>75%</th>\n",
              "      <td>3.000000</td>\n",
              "      <td>1.000000</td>\n",
              "      <td>36.000000</td>\n",
              "      <td>1.000000</td>\n",
              "      <td>0.000000</td>\n",
              "      <td>31.275000</td>\n",
              "    </tr>\n",
              "    <tr>\n",
              "      <th>max</th>\n",
              "      <td>3.000000</td>\n",
              "      <td>1.000000</td>\n",
              "      <td>80.000000</td>\n",
              "      <td>8.000000</td>\n",
              "      <td>9.000000</td>\n",
              "      <td>512.329200</td>\n",
              "    </tr>\n",
              "  </tbody>\n",
              "</table>\n",
              "</div>\n",
              "      <button class=\"colab-df-convert\" onclick=\"convertToInteractive('df-e5dabfe0-b9d4-4211-b96c-5786820a2ca6')\"\n",
              "              title=\"Convert this dataframe to an interactive table.\"\n",
              "              style=\"display:none;\">\n",
              "        \n",
              "  <svg xmlns=\"http://www.w3.org/2000/svg\" height=\"24px\"viewBox=\"0 0 24 24\"\n",
              "       width=\"24px\">\n",
              "    <path d=\"M0 0h24v24H0V0z\" fill=\"none\"/>\n",
              "    <path d=\"M18.56 5.44l.94 2.06.94-2.06 2.06-.94-2.06-.94-.94-2.06-.94 2.06-2.06.94zm-11 1L8.5 8.5l.94-2.06 2.06-.94-2.06-.94L8.5 2.5l-.94 2.06-2.06.94zm10 10l.94 2.06.94-2.06 2.06-.94-2.06-.94-.94-2.06-.94 2.06-2.06.94z\"/><path d=\"M17.41 7.96l-1.37-1.37c-.4-.4-.92-.59-1.43-.59-.52 0-1.04.2-1.43.59L10.3 9.45l-7.72 7.72c-.78.78-.78 2.05 0 2.83L4 21.41c.39.39.9.59 1.41.59.51 0 1.02-.2 1.41-.59l7.78-7.78 2.81-2.81c.8-.78.8-2.07 0-2.86zM5.41 20L4 18.59l7.72-7.72 1.47 1.35L5.41 20z\"/>\n",
              "  </svg>\n",
              "      </button>\n",
              "      \n",
              "  <style>\n",
              "    .colab-df-container {\n",
              "      display:flex;\n",
              "      flex-wrap:wrap;\n",
              "      gap: 12px;\n",
              "    }\n",
              "\n",
              "    .colab-df-convert {\n",
              "      background-color: #E8F0FE;\n",
              "      border: none;\n",
              "      border-radius: 50%;\n",
              "      cursor: pointer;\n",
              "      display: none;\n",
              "      fill: #1967D2;\n",
              "      height: 32px;\n",
              "      padding: 0 0 0 0;\n",
              "      width: 32px;\n",
              "    }\n",
              "\n",
              "    .colab-df-convert:hover {\n",
              "      background-color: #E2EBFA;\n",
              "      box-shadow: 0px 1px 2px rgba(60, 64, 67, 0.3), 0px 1px 3px 1px rgba(60, 64, 67, 0.15);\n",
              "      fill: #174EA6;\n",
              "    }\n",
              "\n",
              "    [theme=dark] .colab-df-convert {\n",
              "      background-color: #3B4455;\n",
              "      fill: #D2E3FC;\n",
              "    }\n",
              "\n",
              "    [theme=dark] .colab-df-convert:hover {\n",
              "      background-color: #434B5C;\n",
              "      box-shadow: 0px 1px 3px 1px rgba(0, 0, 0, 0.15);\n",
              "      filter: drop-shadow(0px 1px 2px rgba(0, 0, 0, 0.3));\n",
              "      fill: #FFFFFF;\n",
              "    }\n",
              "  </style>\n",
              "\n",
              "      <script>\n",
              "        const buttonEl =\n",
              "          document.querySelector('#df-e5dabfe0-b9d4-4211-b96c-5786820a2ca6 button.colab-df-convert');\n",
              "        buttonEl.style.display =\n",
              "          google.colab.kernel.accessAllowed ? 'block' : 'none';\n",
              "\n",
              "        async function convertToInteractive(key) {\n",
              "          const element = document.querySelector('#df-e5dabfe0-b9d4-4211-b96c-5786820a2ca6');\n",
              "          const dataTable =\n",
              "            await google.colab.kernel.invokeFunction('convertToInteractive',\n",
              "                                                     [key], {});\n",
              "          if (!dataTable) return;\n",
              "\n",
              "          const docLinkHtml = 'Like what you see? Visit the ' +\n",
              "            '<a target=\"_blank\" href=https://colab.research.google.com/notebooks/data_table.ipynb>data table notebook</a>'\n",
              "            + ' to learn more about interactive tables.';\n",
              "          element.innerHTML = '';\n",
              "          dataTable['output_type'] = 'display_data';\n",
              "          await google.colab.output.renderOutput(dataTable, element);\n",
              "          const docLink = document.createElement('div');\n",
              "          docLink.innerHTML = docLinkHtml;\n",
              "          element.appendChild(docLink);\n",
              "        }\n",
              "      </script>\n",
              "    </div>\n",
              "  </div>\n",
              "  "
            ]
          },
          "metadata": {},
          "execution_count": 18
        }
      ]
    },
    {
      "cell_type": "markdown",
      "source": [
        "상관관계"
      ],
      "metadata": {
        "id": "NMkvlKOs_R6U"
      }
    },
    {
      "cell_type": "code",
      "source": [
        "corr = df.corr()\n",
        "\n",
        "plt.figure(figsize=(8, 8))\n",
        "sns.heatmap(data=corr, square=True, cmap=\"Blues\", annot=True)\n",
        "plt.show()"
      ],
      "metadata": {
        "colab": {
          "base_uri": "https://localhost:8080/",
          "height": 470
        },
        "id": "snqjw1u0csp0",
        "outputId": "fcb50f50-e18d-41eb-d64f-56b0d60e5943"
      },
      "execution_count": 19,
      "outputs": [
        {
          "output_type": "display_data",
          "data": {
            "text/plain": [
              "<Figure size 576x576 with 2 Axes>"
            ],
            "image/png": "[encoded data removed]"
          },
          "metadata": {
            "needs_background": "light"
          }
        }
      ]
    },
    {
      "cell_type": "markdown",
      "source": [
        "생존 유무에 따른 변수별 상관관계"
      ],
      "metadata": {
        "id": "zV9RAaDQ_Uhl"
      }
    },
    {
      "cell_type": "code",
      "source": [
        "sns.pairplot(data=df, hue='survived')"
      ],
      "metadata": {
        "colab": {
          "base_uri": "https://localhost:8080/",
          "height": 921
        },
        "id": "d11AN6u-gEjN",
        "outputId": "a85741e5-ab11-4446-934f-f525905cb603"
      },
      "execution_count": 20,
      "outputs": [
        {
          "output_type": "execute_result",
          "data": {
            "text/plain": [
              "<seaborn.axisgrid.PairGrid at 0x7f21c0754250>"
            ]
          },
          "metadata": {},
          "execution_count": 20
        },
        {
          "output_type": "display_data",
          "data": {
            "text/plain": [
              "<Figure size 950.875x900 with 30 Axes>"
            ],
            "image/png": "[encoded data removed]"
          },
          "metadata": {
            "needs_background": "light"
          }
        }
      ]
    },
    {
      "cell_type": "markdown",
      "source": [
        "### 전체 생존률"
      ],
      "metadata": {
        "id": "sal4RSZ-Fotw"
      }
    },
    {
      "cell_type": "markdown",
      "source": [
        "분석하기에 앞서 먼저 전체 생존률을 확인해본다."
      ],
      "metadata": {
        "id": "Yvqi1DLHFvLq"
      }
    },
    {
      "cell_type": "code",
      "source": [
        "fig = plt.figure(figsize=(12, 6))\n",
        "graph1 = fig.add_subplot(1, 2, 1)\n",
        "graph2 = fig.add_subplot(1, 2, 2)\n",
        "\n",
        "df['survived'].value_counts().plot.pie(explode=[0, 0.1], autopct='%1.2f%%', ax=graph1)\n",
        "sns.countplot(data=df, x=\"survived\", ax=graph2)\n",
        "plt.show()"
      ],
      "metadata": {
        "colab": {
          "base_uri": "https://localhost:8080/",
          "height": 388
        },
        "id": "uEryZexXF6Nk",
        "outputId": "6e51da9a-bc8e-4c84-df45-30e9aebf89ed"
      },
      "execution_count": 21,
      "outputs": [
        {
          "output_type": "display_data",
          "data": {
            "text/plain": [
              "<Figure size 864x432 with 2 Axes>"
            ],
            "image/png": "[encoded data removed]"
          },
          "metadata": {
            "needs_background": "light"
          }
        }
      ]
    },
    {
      "cell_type": "markdown",
      "source": [
        "`survived` 가 1인 경우 생존을 의미한다.\n",
        "\n",
        "전체 중 38.20%, 대략 500명 정도가 생존했으며, 800명 가까이 사망한 것을 알 수 있다."
      ],
      "metadata": {
        "id": "5KqiaUcYGvbi"
      }
    },
    {
      "cell_type": "markdown",
      "source": [
        "### 성별에 따른 생존률 관계"
      ],
      "metadata": {
        "id": "YkmcQ4B4mpWR"
      }
    },
    {
      "cell_type": "markdown",
      "source": [
        "이번에는 성별과 생존률에 대해 확인해본다.\n",
        "\n",
        "왼쪽은 각 성별의 생존률을 나타내며  \n",
        "오른쪽은 각 성별의 생존 유무 분포를 나타낸다."
      ],
      "metadata": {
        "id": "eoYWkHepEfbA"
      }
    },
    {
      "cell_type": "code",
      "source": [
        "fig = plt.figure(figsize=(12, 6))\n",
        "graph1 = fig.add_subplot(1, 2, 1)\n",
        "graph2 = fig.add_subplot(1, 2, 2)\n",
        "\n",
        "df[['sex', 'survived']].groupby('sex').mean().plot.bar(ax=graph1)\n",
        "sns.countplot(data=df, x=\"sex\", hue=\"survived\", ax=graph2)\n",
        "plt.show()"
      ],
      "metadata": {
        "colab": {
          "base_uri": "https://localhost:8080/",
          "height": 413
        },
        "id": "cjOrNDsVmod3",
        "outputId": "1e1661ce-753d-491b-8875-21c142362fb6"
      },
      "execution_count": 22,
      "outputs": [
        {
          "output_type": "display_data",
          "data": {
            "text/plain": [
              "<Figure size 864x432 with 2 Axes>"
            ],
            "image/png": "[encoded data removed]"
          },
          "metadata": {
            "needs_background": "light"
          }
        }
      ]
    },
    {
      "cell_type": "markdown",
      "source": [
        "여성의 경우 70% 이상 생존한 것을 알 수 있는 반면 남성은 안타깝게도 20% 에도 미치지 못하는 듯 하다."
      ],
      "metadata": {
        "id": "kHGyRE6cC4-Q"
      }
    },
    {
      "cell_type": "code",
      "source": [
        "pd.pivot_table(data=df, index=\"sex\", values=\"survived\")"
      ],
      "metadata": {
        "colab": {
          "base_uri": "https://localhost:8080/",
          "height": 143
        },
        "id": "VHso8VD2opP5",
        "outputId": "7a6f3d49-1bec-4bba-8cf2-780dc83b5fe7"
      },
      "execution_count": 23,
      "outputs": [
        {
          "output_type": "execute_result",
          "data": {
            "text/plain": [
              "        survived\n",
              "sex             \n",
              "female  0.727468\n",
              "male    0.190985"
            ],
            "text/html": [
              "\n",
              "  <div id=\"df-1a6944e0-2431-4df1-9ebd-7405e4e45919\">\n",
              "    <div class=\"colab-df-container\">\n",
              "      <div>\n",
              "<style scoped>\n",
              "    .dataframe tbody tr th:only-of-type {\n",
              "        vertical-align: middle;\n",
              "    }\n",
              "\n",
              "    .dataframe tbody tr th {\n",
              "        vertical-align: top;\n",
              "    }\n",
              "\n",
              "    .dataframe thead th {\n",
              "        text-align: right;\n",
              "    }\n",
              "</style>\n",
              "<table border=\"1\" class=\"dataframe\">\n",
              "  <thead>\n",
              "    <tr style=\"text-align: right;\">\n",
              "      <th></th>\n",
              "      <th>survived</th>\n",
              "    </tr>\n",
              "    <tr>\n",
              "      <th>sex</th>\n",
              "      <th></th>\n",
              "    </tr>\n",
              "  </thead>\n",
              "  <tbody>\n",
              "    <tr>\n",
              "      <th>female</th>\n",
              "      <td>0.727468</td>\n",
              "    </tr>\n",
              "    <tr>\n",
              "      <th>male</th>\n",
              "      <td>0.190985</td>\n",
              "    </tr>\n",
              "  </tbody>\n",
              "</table>\n",
              "</div>\n",
              "      <button class=\"colab-df-convert\" onclick=\"convertToInteractive('df-1a6944e0-2431-4df1-9ebd-7405e4e45919')\"\n",
              "              title=\"Convert this dataframe to an interactive table.\"\n",
              "              style=\"display:none;\">\n",
              "        \n",
              "  <svg xmlns=\"http://www.w3.org/2000/svg\" height=\"24px\"viewBox=\"0 0 24 24\"\n",
              "       width=\"24px\">\n",
              "    <path d=\"M0 0h24v24H0V0z\" fill=\"none\"/>\n",
              "    <path d=\"M18.56 5.44l.94 2.06.94-2.06 2.06-.94-2.06-.94-.94-2.06-.94 2.06-2.06.94zm-11 1L8.5 8.5l.94-2.06 2.06-.94-2.06-.94L8.5 2.5l-.94 2.06-2.06.94zm10 10l.94 2.06.94-2.06 2.06-.94-2.06-.94-.94-2.06-.94 2.06-2.06.94z\"/><path d=\"M17.41 7.96l-1.37-1.37c-.4-.4-.92-.59-1.43-.59-.52 0-1.04.2-1.43.59L10.3 9.45l-7.72 7.72c-.78.78-.78 2.05 0 2.83L4 21.41c.39.39.9.59 1.41.59.51 0 1.02-.2 1.41-.59l7.78-7.78 2.81-2.81c.8-.78.8-2.07 0-2.86zM5.41 20L4 18.59l7.72-7.72 1.47 1.35L5.41 20z\"/>\n",
              "  </svg>\n",
              "      </button>\n",
              "      \n",
              "  <style>\n",
              "    .colab-df-container {\n",
              "      display:flex;\n",
              "      flex-wrap:wrap;\n",
              "      gap: 12px;\n",
              "    }\n",
              "\n",
              "    .colab-df-convert {\n",
              "      background-color: #E8F0FE;\n",
              "      border: none;\n",
              "      border-radius: 50%;\n",
              "      cursor: pointer;\n",
              "      display: none;\n",
              "      fill: #1967D2;\n",
              "      height: 32px;\n",
              "      padding: 0 0 0 0;\n",
              "      width: 32px;\n",
              "    }\n",
              "\n",
              "    .colab-df-convert:hover {\n",
              "      background-color: #E2EBFA;\n",
              "      box-shadow: 0px 1px 2px rgba(60, 64, 67, 0.3), 0px 1px 3px 1px rgba(60, 64, 67, 0.15);\n",
              "      fill: #174EA6;\n",
              "    }\n",
              "\n",
              "    [theme=dark] .colab-df-convert {\n",
              "      background-color: #3B4455;\n",
              "      fill: #D2E3FC;\n",
              "    }\n",
              "\n",
              "    [theme=dark] .colab-df-convert:hover {\n",
              "      background-color: #434B5C;\n",
              "      box-shadow: 0px 1px 3px 1px rgba(0, 0, 0, 0.15);\n",
              "      filter: drop-shadow(0px 1px 2px rgba(0, 0, 0, 0.3));\n",
              "      fill: #FFFFFF;\n",
              "    }\n",
              "  </style>\n",
              "\n",
              "      <script>\n",
              "        const buttonEl =\n",
              "          document.querySelector('#df-1a6944e0-2431-4df1-9ebd-7405e4e45919 button.colab-df-convert');\n",
              "        buttonEl.style.display =\n",
              "          google.colab.kernel.accessAllowed ? 'block' : 'none';\n",
              "\n",
              "        async function convertToInteractive(key) {\n",
              "          const element = document.querySelector('#df-1a6944e0-2431-4df1-9ebd-7405e4e45919');\n",
              "          const dataTable =\n",
              "            await google.colab.kernel.invokeFunction('convertToInteractive',\n",
              "                                                     [key], {});\n",
              "          if (!dataTable) return;\n",
              "\n",
              "          const docLinkHtml = 'Like what you see? Visit the ' +\n",
              "            '<a target=\"_blank\" href=https://colab.research.google.com/notebooks/data_table.ipynb>data table notebook</a>'\n",
              "            + ' to learn more about interactive tables.';\n",
              "          element.innerHTML = '';\n",
              "          dataTable['output_type'] = 'display_data';\n",
              "          await google.colab.output.renderOutput(dataTable, element);\n",
              "          const docLink = document.createElement('div');\n",
              "          docLink.innerHTML = docLinkHtml;\n",
              "          element.appendChild(docLink);\n",
              "        }\n",
              "      </script>\n",
              "    </div>\n",
              "  </div>\n",
              "  "
            ]
          },
          "metadata": {},
          "execution_count": 23
        }
      ]
    },
    {
      "cell_type": "markdown",
      "source": [
        "정확히는 여성이 72% 남성이 19% 정도로 생존했으며,  \n",
        "성별은 생존률에 영향을 미친다고 할 수 있다.\n",
        "\n",
        "침몰사고 당시 구조작업을 위해 남성들이 희생을 했었던 것일까?"
      ],
      "metadata": {
        "id": "OqP0-tRZ1Fz5"
      }
    },
    {
      "cell_type": "markdown",
      "source": [
        "### 나이에 따른 생존률 관계"
      ],
      "metadata": {
        "id": "jSARrd6VnXyf"
      }
    },
    {
      "cell_type": "markdown",
      "source": [
        "이번에는 나이별로 생존률을 살펴본다."
      ],
      "metadata": {
        "id": "Yx_-7b4Im1M8"
      }
    },
    {
      "cell_type": "code",
      "source": [
        "plt.figure(figsize=(15, 6))\n",
        "sns.histplot(data=df, x=\"age\", bins=30, hue=\"survived\", multiple=\"stack\", kde=True)\n",
        "plt.show()"
      ],
      "metadata": {
        "colab": {
          "base_uri": "https://localhost:8080/",
          "height": 388
        },
        "id": "3yOdM_7K2_9g",
        "outputId": "1a6be0d8-1532-4fbb-fbc7-de6c8ec250d9"
      },
      "execution_count": 24,
      "outputs": [
        {
          "output_type": "display_data",
          "data": {
            "text/plain": [
              "<Figure size 1080x432 with 1 Axes>"
            ],
            "image/png": "[encoded data removed]"
          },
          "metadata": {
            "needs_background": "light"
          }
        }
      ]
    },
    {
      "cell_type": "markdown",
      "source": [
        "주로 2 ~ 30대에서 사망자가 많은 것을 확인 할 수 있다.\n",
        "\n",
        "그리고 결측치를 처리할 때 만들었던 분류를 사용해보면 다음과 같다."
      ],
      "metadata": {
        "id": "XXrx3GBx45rW"
      }
    },
    {
      "cell_type": "code",
      "source": [
        "pd.pivot_table(data=df, index=\"name\", values=\"survived\")"
      ],
      "metadata": {
        "colab": {
          "base_uri": "https://localhost:8080/",
          "height": 238
        },
        "id": "hvb2b7juoUED",
        "outputId": "61d82ac4-ad3d-4b0c-ab6e-3b796bfd03a4"
      },
      "execution_count": 25,
      "outputs": [
        {
          "output_type": "execute_result",
          "data": {
            "text/plain": [
              "        survived\n",
              "name            \n",
              "Master  0.508197\n",
              "Miss    0.678030\n",
              "Mr      0.164042\n",
              "Mrs     0.791045\n",
              "Other   0.285714"
            ],
            "text/html": [
              "\n",
              "  <div id=\"df-373ea347-4346-4dab-9c1a-71160fd9196e\">\n",
              "    <div class=\"colab-df-container\">\n",
              "      <div>\n",
              "<style scoped>\n",
              "    .dataframe tbody tr th:only-of-type {\n",
              "        vertical-align: middle;\n",
              "    }\n",
              "\n",
              "    .dataframe tbody tr th {\n",
              "        vertical-align: top;\n",
              "    }\n",
              "\n",
              "    .dataframe thead th {\n",
              "        text-align: right;\n",
              "    }\n",
              "</style>\n",
              "<table border=\"1\" class=\"dataframe\">\n",
              "  <thead>\n",
              "    <tr style=\"text-align: right;\">\n",
              "      <th></th>\n",
              "      <th>survived</th>\n",
              "    </tr>\n",
              "    <tr>\n",
              "      <th>name</th>\n",
              "      <th></th>\n",
              "    </tr>\n",
              "  </thead>\n",
              "  <tbody>\n",
              "    <tr>\n",
              "      <th>Master</th>\n",
              "      <td>0.508197</td>\n",
              "    </tr>\n",
              "    <tr>\n",
              "      <th>Miss</th>\n",
              "      <td>0.678030</td>\n",
              "    </tr>\n",
              "    <tr>\n",
              "      <th>Mr</th>\n",
              "      <td>0.164042</td>\n",
              "    </tr>\n",
              "    <tr>\n",
              "      <th>Mrs</th>\n",
              "      <td>0.791045</td>\n",
              "    </tr>\n",
              "    <tr>\n",
              "      <th>Other</th>\n",
              "      <td>0.285714</td>\n",
              "    </tr>\n",
              "  </tbody>\n",
              "</table>\n",
              "</div>\n",
              "      <button class=\"colab-df-convert\" onclick=\"convertToInteractive('df-373ea347-4346-4dab-9c1a-71160fd9196e')\"\n",
              "              title=\"Convert this dataframe to an interactive table.\"\n",
              "              style=\"display:none;\">\n",
              "        \n",
              "  <svg xmlns=\"http://www.w3.org/2000/svg\" height=\"24px\"viewBox=\"0 0 24 24\"\n",
              "       width=\"24px\">\n",
              "    <path d=\"M0 0h24v24H0V0z\" fill=\"none\"/>\n",
              "    <path d=\"M18.56 5.44l.94 2.06.94-2.06 2.06-.94-2.06-.94-.94-2.06-.94 2.06-2.06.94zm-11 1L8.5 8.5l.94-2.06 2.06-.94-2.06-.94L8.5 2.5l-.94 2.06-2.06.94zm10 10l.94 2.06.94-2.06 2.06-.94-2.06-.94-.94-2.06-.94 2.06-2.06.94z\"/><path d=\"M17.41 7.96l-1.37-1.37c-.4-.4-.92-.59-1.43-.59-.52 0-1.04.2-1.43.59L10.3 9.45l-7.72 7.72c-.78.78-.78 2.05 0 2.83L4 21.41c.39.39.9.59 1.41.59.51 0 1.02-.2 1.41-.59l7.78-7.78 2.81-2.81c.8-.78.8-2.07 0-2.86zM5.41 20L4 18.59l7.72-7.72 1.47 1.35L5.41 20z\"/>\n",
              "  </svg>\n",
              "      </button>\n",
              "      \n",
              "  <style>\n",
              "    .colab-df-container {\n",
              "      display:flex;\n",
              "      flex-wrap:wrap;\n",
              "      gap: 12px;\n",
              "    }\n",
              "\n",
              "    .colab-df-convert {\n",
              "      background-color: #E8F0FE;\n",
              "      border: none;\n",
              "      border-radius: 50%;\n",
              "      cursor: pointer;\n",
              "      display: none;\n",
              "      fill: #1967D2;\n",
              "      height: 32px;\n",
              "      padding: 0 0 0 0;\n",
              "      width: 32px;\n",
              "    }\n",
              "\n",
              "    .colab-df-convert:hover {\n",
              "      background-color: #E2EBFA;\n",
              "      box-shadow: 0px 1px 2px rgba(60, 64, 67, 0.3), 0px 1px 3px 1px rgba(60, 64, 67, 0.15);\n",
              "      fill: #174EA6;\n",
              "    }\n",
              "\n",
              "    [theme=dark] .colab-df-convert {\n",
              "      background-color: #3B4455;\n",
              "      fill: #D2E3FC;\n",
              "    }\n",
              "\n",
              "    [theme=dark] .colab-df-convert:hover {\n",
              "      background-color: #434B5C;\n",
              "      box-shadow: 0px 1px 3px 1px rgba(0, 0, 0, 0.15);\n",
              "      filter: drop-shadow(0px 1px 2px rgba(0, 0, 0, 0.3));\n",
              "      fill: #FFFFFF;\n",
              "    }\n",
              "  </style>\n",
              "\n",
              "      <script>\n",
              "        const buttonEl =\n",
              "          document.querySelector('#df-373ea347-4346-4dab-9c1a-71160fd9196e button.colab-df-convert');\n",
              "        buttonEl.style.display =\n",
              "          google.colab.kernel.accessAllowed ? 'block' : 'none';\n",
              "\n",
              "        async function convertToInteractive(key) {\n",
              "          const element = document.querySelector('#df-373ea347-4346-4dab-9c1a-71160fd9196e');\n",
              "          const dataTable =\n",
              "            await google.colab.kernel.invokeFunction('convertToInteractive',\n",
              "                                                     [key], {});\n",
              "          if (!dataTable) return;\n",
              "\n",
              "          const docLinkHtml = 'Like what you see? Visit the ' +\n",
              "            '<a target=\"_blank\" href=https://colab.research.google.com/notebooks/data_table.ipynb>data table notebook</a>'\n",
              "            + ' to learn more about interactive tables.';\n",
              "          element.innerHTML = '';\n",
              "          dataTable['output_type'] = 'display_data';\n",
              "          await google.colab.output.renderOutput(dataTable, element);\n",
              "          const docLink = document.createElement('div');\n",
              "          docLink.innerHTML = docLinkHtml;\n",
              "          element.appendChild(docLink);\n",
              "        }\n",
              "      </script>\n",
              "    </div>\n",
              "  </div>\n",
              "  "
            ]
          },
          "metadata": {},
          "execution_count": 25
        }
      ]
    },
    {
      "cell_type": "markdown",
      "source": [
        "주로 Mr, Other 인 성인 남성이 생존률이 가장 낮고  \n",
        "Mrs, Miss 인 여성이 생존률이 높은편이다. (이는 성별 분류에서 확인했었음)\n",
        "\n",
        "또한 유아들의 생존률도 높은 편인데  \n",
        "이를 토대로 나이와 생존률의 관계도 있다고 할 수 있다."
      ],
      "metadata": {
        "id": "9mcfrnsr7h2r"
      }
    },
    {
      "cell_type": "markdown",
      "source": [
        "좀 더 성별 및 나이대 분류를 10으로 나눠 각 생존률을 구해보면 다음과 같다."
      ],
      "metadata": {
        "id": "gFOi4j4DDyzW"
      }
    },
    {
      "cell_type": "code",
      "source": [
        "t = df.copy()\n",
        "t['age'] = t['age'].apply(lambda x: int(x/10))\n",
        "\n",
        "t.groupby(['sex', 'age']).agg({'survived': [np.mean, sum]})"
      ],
      "metadata": {
        "colab": {
          "base_uri": "https://localhost:8080/",
          "height": 645
        },
        "id": "p98n_-ddD7dh",
        "outputId": "4d56dbf7-15c4-469f-eb4b-badc0fb7c2b6"
      },
      "execution_count": 26,
      "outputs": [
        {
          "output_type": "execute_result",
          "data": {
            "text/plain": [
              "            survived     \n",
              "                mean  sum\n",
              "sex    age               \n",
              "female 0    0.641026   25\n",
              "       1    0.734375   47\n",
              "       2    0.674699  112\n",
              "       3    0.752212   85\n",
              "       4    0.782609   36\n",
              "       5    0.925926   25\n",
              "       6    0.800000    8\n",
              "       7    1.000000    1\n",
              "male   0    0.549020   28\n",
              "       1    0.113924    9\n",
              "       2    0.196507   45\n",
              "       3    0.164596   53\n",
              "       4    0.177778   16\n",
              "       5    0.162791    7\n",
              "       6    0.090909    2\n",
              "       7    0.000000    0\n",
              "       8    1.000000    1"
            ],
            "text/html": [
              "\n",
              "  <div id=\"df-ac710731-a69a-4163-856b-fc3b265b7ec4\">\n",
              "    <div class=\"colab-df-container\">\n",
              "      <div>\n",
              "<style scoped>\n",
              "    .dataframe tbody tr th:only-of-type {\n",
              "        vertical-align: middle;\n",
              "    }\n",
              "\n",
              "    .dataframe tbody tr th {\n",
              "        vertical-align: top;\n",
              "    }\n",
              "\n",
              "    .dataframe thead tr th {\n",
              "        text-align: left;\n",
              "    }\n",
              "\n",
              "    .dataframe thead tr:last-of-type th {\n",
              "        text-align: right;\n",
              "    }\n",
              "</style>\n",
              "<table border=\"1\" class=\"dataframe\">\n",
              "  <thead>\n",
              "    <tr>\n",
              "      <th></th>\n",
              "      <th></th>\n",
              "      <th colspan=\"2\" halign=\"left\">survived</th>\n",
              "    </tr>\n",
              "    <tr>\n",
              "      <th></th>\n",
              "      <th></th>\n",
              "      <th>mean</th>\n",
              "      <th>sum</th>\n",
              "    </tr>\n",
              "    <tr>\n",
              "      <th>sex</th>\n",
              "      <th>age</th>\n",
              "      <th></th>\n",
              "      <th></th>\n",
              "    </tr>\n",
              "  </thead>\n",
              "  <tbody>\n",
              "    <tr>\n",
              "      <th rowspan=\"8\" valign=\"top\">female</th>\n",
              "      <th>0</th>\n",
              "      <td>0.641026</td>\n",
              "      <td>25</td>\n",
              "    </tr>\n",
              "    <tr>\n",
              "      <th>1</th>\n",
              "      <td>0.734375</td>\n",
              "      <td>47</td>\n",
              "    </tr>\n",
              "    <tr>\n",
              "      <th>2</th>\n",
              "      <td>0.674699</td>\n",
              "      <td>112</td>\n",
              "    </tr>\n",
              "    <tr>\n",
              "      <th>3</th>\n",
              "      <td>0.752212</td>\n",
              "      <td>85</td>\n",
              "    </tr>\n",
              "    <tr>\n",
              "      <th>4</th>\n",
              "      <td>0.782609</td>\n",
              "      <td>36</td>\n",
              "    </tr>\n",
              "    <tr>\n",
              "      <th>5</th>\n",
              "      <td>0.925926</td>\n",
              "      <td>25</td>\n",
              "    </tr>\n",
              "    <tr>\n",
              "      <th>6</th>\n",
              "      <td>0.800000</td>\n",
              "      <td>8</td>\n",
              "    </tr>\n",
              "    <tr>\n",
              "      <th>7</th>\n",
              "      <td>1.000000</td>\n",
              "      <td>1</td>\n",
              "    </tr>\n",
              "    <tr>\n",
              "      <th rowspan=\"9\" valign=\"top\">male</th>\n",
              "      <th>0</th>\n",
              "      <td>0.549020</td>\n",
              "      <td>28</td>\n",
              "    </tr>\n",
              "    <tr>\n",
              "      <th>1</th>\n",
              "      <td>0.113924</td>\n",
              "      <td>9</td>\n",
              "    </tr>\n",
              "    <tr>\n",
              "      <th>2</th>\n",
              "      <td>0.196507</td>\n",
              "      <td>45</td>\n",
              "    </tr>\n",
              "    <tr>\n",
              "      <th>3</th>\n",
              "      <td>0.164596</td>\n",
              "      <td>53</td>\n",
              "    </tr>\n",
              "    <tr>\n",
              "      <th>4</th>\n",
              "      <td>0.177778</td>\n",
              "      <td>16</td>\n",
              "    </tr>\n",
              "    <tr>\n",
              "      <th>5</th>\n",
              "      <td>0.162791</td>\n",
              "      <td>7</td>\n",
              "    </tr>\n",
              "    <tr>\n",
              "      <th>6</th>\n",
              "      <td>0.090909</td>\n",
              "      <td>2</td>\n",
              "    </tr>\n",
              "    <tr>\n",
              "      <th>7</th>\n",
              "      <td>0.000000</td>\n",
              "      <td>0</td>\n",
              "    </tr>\n",
              "    <tr>\n",
              "      <th>8</th>\n",
              "      <td>1.000000</td>\n",
              "      <td>1</td>\n",
              "    </tr>\n",
              "  </tbody>\n",
              "</table>\n",
              "</div>\n",
              "      <button class=\"colab-df-convert\" onclick=\"convertToInteractive('df-ac710731-a69a-4163-856b-fc3b265b7ec4')\"\n",
              "              title=\"Convert this dataframe to an interactive table.\"\n",
              "              style=\"display:none;\">\n",
              "        \n",
              "  <svg xmlns=\"http://www.w3.org/2000/svg\" height=\"24px\"viewBox=\"0 0 24 24\"\n",
              "       width=\"24px\">\n",
              "    <path d=\"M0 0h24v24H0V0z\" fill=\"none\"/>\n",
              "    <path d=\"M18.56 5.44l.94 2.06.94-2.06 2.06-.94-2.06-.94-.94-2.06-.94 2.06-2.06.94zm-11 1L8.5 8.5l.94-2.06 2.06-.94-2.06-.94L8.5 2.5l-.94 2.06-2.06.94zm10 10l.94 2.06.94-2.06 2.06-.94-2.06-.94-.94-2.06-.94 2.06-2.06.94z\"/><path d=\"M17.41 7.96l-1.37-1.37c-.4-.4-.92-.59-1.43-.59-.52 0-1.04.2-1.43.59L10.3 9.45l-7.72 7.72c-.78.78-.78 2.05 0 2.83L4 21.41c.39.39.9.59 1.41.59.51 0 1.02-.2 1.41-.59l7.78-7.78 2.81-2.81c.8-.78.8-2.07 0-2.86zM5.41 20L4 18.59l7.72-7.72 1.47 1.35L5.41 20z\"/>\n",
              "  </svg>\n",
              "      </button>\n",
              "      \n",
              "  <style>\n",
              "    .colab-df-container {\n",
              "      display:flex;\n",
              "      flex-wrap:wrap;\n",
              "      gap: 12px;\n",
              "    }\n",
              "\n",
              "    .colab-df-convert {\n",
              "      background-color: #E8F0FE;\n",
              "      border: none;\n",
              "      border-radius: 50%;\n",
              "      cursor: pointer;\n",
              "      display: none;\n",
              "      fill: #1967D2;\n",
              "      height: 32px;\n",
              "      padding: 0 0 0 0;\n",
              "      width: 32px;\n",
              "    }\n",
              "\n",
              "    .colab-df-convert:hover {\n",
              "      background-color: #E2EBFA;\n",
              "      box-shadow: 0px 1px 2px rgba(60, 64, 67, 0.3), 0px 1px 3px 1px rgba(60, 64, 67, 0.15);\n",
              "      fill: #174EA6;\n",
              "    }\n",
              "\n",
              "    [theme=dark] .colab-df-convert {\n",
              "      background-color: #3B4455;\n",
              "      fill: #D2E3FC;\n",
              "    }\n",
              "\n",
              "    [theme=dark] .colab-df-convert:hover {\n",
              "      background-color: #434B5C;\n",
              "      box-shadow: 0px 1px 3px 1px rgba(0, 0, 0, 0.15);\n",
              "      filter: drop-shadow(0px 1px 2px rgba(0, 0, 0, 0.3));\n",
              "      fill: #FFFFFF;\n",
              "    }\n",
              "  </style>\n",
              "\n",
              "      <script>\n",
              "        const buttonEl =\n",
              "          document.querySelector('#df-ac710731-a69a-4163-856b-fc3b265b7ec4 button.colab-df-convert');\n",
              "        buttonEl.style.display =\n",
              "          google.colab.kernel.accessAllowed ? 'block' : 'none';\n",
              "\n",
              "        async function convertToInteractive(key) {\n",
              "          const element = document.querySelector('#df-ac710731-a69a-4163-856b-fc3b265b7ec4');\n",
              "          const dataTable =\n",
              "            await google.colab.kernel.invokeFunction('convertToInteractive',\n",
              "                                                     [key], {});\n",
              "          if (!dataTable) return;\n",
              "\n",
              "          const docLinkHtml = 'Like what you see? Visit the ' +\n",
              "            '<a target=\"_blank\" href=https://colab.research.google.com/notebooks/data_table.ipynb>data table notebook</a>'\n",
              "            + ' to learn more about interactive tables.';\n",
              "          element.innerHTML = '';\n",
              "          dataTable['output_type'] = 'display_data';\n",
              "          await google.colab.output.renderOutput(dataTable, element);\n",
              "          const docLink = document.createElement('div');\n",
              "          docLink.innerHTML = docLinkHtml;\n",
              "          element.appendChild(docLink);\n",
              "        }\n",
              "      </script>\n",
              "    </div>\n",
              "  </div>\n",
              "  "
            ]
          },
          "metadata": {},
          "execution_count": 26
        }
      ]
    },
    {
      "cell_type": "markdown",
      "source": [
        "60대 이상의 경우 데이터가 빈약하므로 이를 제외하면  \n",
        "남성의 경우 10세 미만, 여성의 경우 50대가 가장 생존률이 높게 나왔다.\n",
        "\n",
        "어쩌면 대체로 성인 남성들이 여성 및 유아들의 구조 작업에 뛰어들다 희생되지 않았나 예상된다...\n",
        "\n",
        "아래는 안타깝게도 희생된 사람중 가장 연령이 낮은 케이스에 대한 결과이다."
      ],
      "metadata": {
        "id": "nbj6gz9NHLbC"
      }
    },
    {
      "cell_type": "code",
      "source": [
        "df.loc[(df['survived'] == 0), 'age'].min()"
      ],
      "metadata": {
        "colab": {
          "base_uri": "https://localhost:8080/"
        },
        "id": "QikDPByPy6tr",
        "outputId": "4ef82001-ca1e-4bd8-ba16-069986112939"
      },
      "execution_count": 27,
      "outputs": [
        {
          "output_type": "execute_result",
          "data": {
            "text/plain": [
              "0.33"
            ]
          },
          "metadata": {},
          "execution_count": 27
        }
      ]
    },
    {
      "cell_type": "markdown",
      "source": [
        "### 객실 등급/지불한 운임에 따른 생존률 관계"
      ],
      "metadata": {
        "id": "8p_g4UQK8vJH"
      }
    },
    {
      "cell_type": "markdown",
      "source": [
        "이번에는 객실 등급에 따른 생존률을 살펴본다.\n",
        "\n",
        "왼쪽의 경우 각 객실의 수  \n",
        "오른쪽의 경우 각 객실 등급의 생존 유무 분포를 나타낸다."
      ],
      "metadata": {
        "id": "LfW-qOlz_eeG"
      }
    },
    {
      "cell_type": "code",
      "source": [
        "fig = plt.figure(figsize=(12, 6))\n",
        "graph1 = fig.add_subplot(1, 2, 1)\n",
        "graph2 = fig.add_subplot(1, 2, 2)\n",
        "\n",
        "sns.countplot(data=df, x=\"pclass\", ax=graph1)\n",
        "sns.countplot(data=df, x=\"pclass\", hue=\"survived\", ax=graph2)\n",
        "plt.show()"
      ],
      "metadata": {
        "colab": {
          "base_uri": "https://localhost:8080/",
          "height": 388
        },
        "id": "HqR79oom9Yg4",
        "outputId": "b136fba8-4381-40ef-f218-16f1009c1c95"
      },
      "execution_count": 28,
      "outputs": [
        {
          "output_type": "display_data",
          "data": {
            "text/plain": [
              "<Figure size 864x432 with 2 Axes>"
            ],
            "image/png": "[encoded data removed]"
          },
          "metadata": {
            "needs_background": "light"
          }
        }
      ]
    },
    {
      "cell_type": "markdown",
      "source": [
        "3등급의 객실에 머문 사람이 가장 많다.  \n",
        "그리고 등급이 좋을 수록 생존률 또한 오르는 모습을 볼 수 있다.\n",
        "\n",
        "즉, 돈이 많은 사람은 오래 살 운명이라는 뜻이다. (?)"
      ],
      "metadata": {
        "id": "0V-yd5pm-LmX"
      }
    },
    {
      "cell_type": "code",
      "source": [
        "pd.pivot_table(data=df, index=\"pclass\", values=\"survived\")"
      ],
      "metadata": {
        "colab": {
          "base_uri": "https://localhost:8080/",
          "height": 175
        },
        "id": "EGvsfe43-HDR",
        "outputId": "4b1448ed-a281-43fe-a73f-a9dfb86ad3f5"
      },
      "execution_count": 29,
      "outputs": [
        {
          "output_type": "execute_result",
          "data": {
            "text/plain": [
              "        survived\n",
              "pclass          \n",
              "1       0.619195\n",
              "2       0.429603\n",
              "3       0.255289"
            ],
            "text/html": [
              "\n",
              "  <div id=\"df-cfc371fb-02ac-4a9f-b444-9688dd0aa642\">\n",
              "    <div class=\"colab-df-container\">\n",
              "      <div>\n",
              "<style scoped>\n",
              "    .dataframe tbody tr th:only-of-type {\n",
              "        vertical-align: middle;\n",
              "    }\n",
              "\n",
              "    .dataframe tbody tr th {\n",
              "        vertical-align: top;\n",
              "    }\n",
              "\n",
              "    .dataframe thead th {\n",
              "        text-align: right;\n",
              "    }\n",
              "</style>\n",
              "<table border=\"1\" class=\"dataframe\">\n",
              "  <thead>\n",
              "    <tr style=\"text-align: right;\">\n",
              "      <th></th>\n",
              "      <th>survived</th>\n",
              "    </tr>\n",
              "    <tr>\n",
              "      <th>pclass</th>\n",
              "      <th></th>\n",
              "    </tr>\n",
              "  </thead>\n",
              "  <tbody>\n",
              "    <tr>\n",
              "      <th>1</th>\n",
              "      <td>0.619195</td>\n",
              "    </tr>\n",
              "    <tr>\n",
              "      <th>2</th>\n",
              "      <td>0.429603</td>\n",
              "    </tr>\n",
              "    <tr>\n",
              "      <th>3</th>\n",
              "      <td>0.255289</td>\n",
              "    </tr>\n",
              "  </tbody>\n",
              "</table>\n",
              "</div>\n",
              "      <button class=\"colab-df-convert\" onclick=\"convertToInteractive('df-cfc371fb-02ac-4a9f-b444-9688dd0aa642')\"\n",
              "              title=\"Convert this dataframe to an interactive table.\"\n",
              "              style=\"display:none;\">\n",
              "        \n",
              "  <svg xmlns=\"http://www.w3.org/2000/svg\" height=\"24px\"viewBox=\"0 0 24 24\"\n",
              "       width=\"24px\">\n",
              "    <path d=\"M0 0h24v24H0V0z\" fill=\"none\"/>\n",
              "    <path d=\"M18.56 5.44l.94 2.06.94-2.06 2.06-.94-2.06-.94-.94-2.06-.94 2.06-2.06.94zm-11 1L8.5 8.5l.94-2.06 2.06-.94-2.06-.94L8.5 2.5l-.94 2.06-2.06.94zm10 10l.94 2.06.94-2.06 2.06-.94-2.06-.94-.94-2.06-.94 2.06-2.06.94z\"/><path d=\"M17.41 7.96l-1.37-1.37c-.4-.4-.92-.59-1.43-.59-.52 0-1.04.2-1.43.59L10.3 9.45l-7.72 7.72c-.78.78-.78 2.05 0 2.83L4 21.41c.39.39.9.59 1.41.59.51 0 1.02-.2 1.41-.59l7.78-7.78 2.81-2.81c.8-.78.8-2.07 0-2.86zM5.41 20L4 18.59l7.72-7.72 1.47 1.35L5.41 20z\"/>\n",
              "  </svg>\n",
              "      </button>\n",
              "      \n",
              "  <style>\n",
              "    .colab-df-container {\n",
              "      display:flex;\n",
              "      flex-wrap:wrap;\n",
              "      gap: 12px;\n",
              "    }\n",
              "\n",
              "    .colab-df-convert {\n",
              "      background-color: #E8F0FE;\n",
              "      border: none;\n",
              "      border-radius: 50%;\n",
              "      cursor: pointer;\n",
              "      display: none;\n",
              "      fill: #1967D2;\n",
              "      height: 32px;\n",
              "      padding: 0 0 0 0;\n",
              "      width: 32px;\n",
              "    }\n",
              "\n",
              "    .colab-df-convert:hover {\n",
              "      background-color: #E2EBFA;\n",
              "      box-shadow: 0px 1px 2px rgba(60, 64, 67, 0.3), 0px 1px 3px 1px rgba(60, 64, 67, 0.15);\n",
              "      fill: #174EA6;\n",
              "    }\n",
              "\n",
              "    [theme=dark] .colab-df-convert {\n",
              "      background-color: #3B4455;\n",
              "      fill: #D2E3FC;\n",
              "    }\n",
              "\n",
              "    [theme=dark] .colab-df-convert:hover {\n",
              "      background-color: #434B5C;\n",
              "      box-shadow: 0px 1px 3px 1px rgba(0, 0, 0, 0.15);\n",
              "      filter: drop-shadow(0px 1px 2px rgba(0, 0, 0, 0.3));\n",
              "      fill: #FFFFFF;\n",
              "    }\n",
              "  </style>\n",
              "\n",
              "      <script>\n",
              "        const buttonEl =\n",
              "          document.querySelector('#df-cfc371fb-02ac-4a9f-b444-9688dd0aa642 button.colab-df-convert');\n",
              "        buttonEl.style.display =\n",
              "          google.colab.kernel.accessAllowed ? 'block' : 'none';\n",
              "\n",
              "        async function convertToInteractive(key) {\n",
              "          const element = document.querySelector('#df-cfc371fb-02ac-4a9f-b444-9688dd0aa642');\n",
              "          const dataTable =\n",
              "            await google.colab.kernel.invokeFunction('convertToInteractive',\n",
              "                                                     [key], {});\n",
              "          if (!dataTable) return;\n",
              "\n",
              "          const docLinkHtml = 'Like what you see? Visit the ' +\n",
              "            '<a target=\"_blank\" href=https://colab.research.google.com/notebooks/data_table.ipynb>data table notebook</a>'\n",
              "            + ' to learn more about interactive tables.';\n",
              "          element.innerHTML = '';\n",
              "          dataTable['output_type'] = 'display_data';\n",
              "          await google.colab.output.renderOutput(dataTable, element);\n",
              "          const docLink = document.createElement('div');\n",
              "          docLink.innerHTML = docLinkHtml;\n",
              "          element.appendChild(docLink);\n",
              "        }\n",
              "      </script>\n",
              "    </div>\n",
              "  </div>\n",
              "  "
            ]
          },
          "metadata": {},
          "execution_count": 29
        }
      ]
    },
    {
      "cell_type": "markdown",
      "source": [
        "성별을 기준으로 객실등급과 생존률의 관계를 나타내보면 1등급 객실에 머문 여성의 생존률이 매우 높음을 알 수 있다.  \n",
        "그리고 의외로 3등급보다 2등급 객실에 머문 남성이 생존률이 조금 더 낮았다."
      ],
      "metadata": {
        "id": "6PUzjuu5vIpS"
      }
    },
    {
      "cell_type": "code",
      "source": [
        "sns.catplot(data=df, x='pclass', y='survived', hue='sex', kind='point')\n",
        "plt.show()"
      ],
      "metadata": {
        "colab": {
          "base_uri": "https://localhost:8080/",
          "height": 369
        },
        "id": "rvSm7i8XtAGo",
        "outputId": "28dd857a-937b-426e-ae6b-68ad72e79e97"
      },
      "execution_count": 30,
      "outputs": [
        {
          "output_type": "display_data",
          "data": {
            "text/plain": [
              "<Figure size 430.5x360 with 1 Axes>"
            ],
            "image/png": "[encoded data removed]"
          },
          "metadata": {
            "needs_background": "light"
          }
        }
      ]
    },
    {
      "cell_type": "markdown",
      "source": [
        "아래는 성별 및 연령대 별을 기준으로 객실 등급 분포를 본 것인데,  \n",
        "주로 연령이 높은 층이 좋은 객실에 머물렀다는 것을 알 수 있다."
      ],
      "metadata": {
        "id": "M96muvTGvX_z"
      }
    },
    {
      "cell_type": "code",
      "source": [
        "sns.catplot(data=df, x='pclass', y='age', hue='sex', kind='point')\n",
        "plt.show()"
      ],
      "metadata": {
        "colab": {
          "base_uri": "https://localhost:8080/",
          "height": 369
        },
        "id": "S8mUbWZYvZjH",
        "outputId": "3d0a5417-8b3c-4860-9c50-0ffb7fb5f6fc"
      },
      "execution_count": 31,
      "outputs": [
        {
          "output_type": "display_data",
          "data": {
            "text/plain": [
              "<Figure size 430.5x360 with 1 Axes>"
            ],
            "image/png": "[encoded data removed]"
          },
          "metadata": {
            "needs_background": "light"
          }
        }
      ]
    },
    {
      "cell_type": "markdown",
      "source": [
        "이번에는 객실별 나이에 대한 생존자 비율의 관계를 살펴보면 다음과 같다."
      ],
      "metadata": {
        "id": "6wPgRar-xxT9"
      }
    },
    {
      "cell_type": "code",
      "source": [
        "sns.violinplot(data=df, x='pclass', y='age', hue='survived', split=True)\n",
        "plt.show()"
      ],
      "metadata": {
        "colab": {
          "base_uri": "https://localhost:8080/",
          "height": 279
        },
        "id": "gKKYkCFGxZ1N",
        "outputId": "03ba3e05-95e0-413f-9d79-05868b4e58a5"
      },
      "execution_count": 32,
      "outputs": [
        {
          "output_type": "display_data",
          "data": {
            "text/plain": [
              "<Figure size 432x288 with 1 Axes>"
            ],
            "image/png": "[encoded data removed]"
          },
          "metadata": {
            "needs_background": "light"
          }
        }
      ]
    },
    {
      "cell_type": "markdown",
      "source": [
        "참고로 지불한 운임에 대한 정보를 따로 분석할 필요는 없을 것 같다.  \n",
        "좋은 객실일수록 요금 또한 높아질 것은 당연한 사실이기 때문이다."
      ],
      "metadata": {
        "id": "OxQzzVQ8A6xE"
      }
    },
    {
      "cell_type": "code",
      "source": [
        "pd.pivot_table(data=df, index=\"pclass\", values=\"fare\")"
      ],
      "metadata": {
        "colab": {
          "base_uri": "https://localhost:8080/",
          "height": 175
        },
        "id": "7xQUOirRs3Iu",
        "outputId": "f0d30650-798f-4d01-f067-377d4b4579a1"
      },
      "execution_count": 33,
      "outputs": [
        {
          "output_type": "execute_result",
          "data": {
            "text/plain": [
              "             fare\n",
              "pclass           \n",
              "1       87.508992\n",
              "2       21.179196\n",
              "3       13.302889"
            ],
            "text/html": [
              "\n",
              "  <div id=\"df-c450a4e7-c228-478e-b0f7-577a291b4ee4\">\n",
              "    <div class=\"colab-df-container\">\n",
              "      <div>\n",
              "<style scoped>\n",
              "    .dataframe tbody tr th:only-of-type {\n",
              "        vertical-align: middle;\n",
              "    }\n",
              "\n",
              "    .dataframe tbody tr th {\n",
              "        vertical-align: top;\n",
              "    }\n",
              "\n",
              "    .dataframe thead th {\n",
              "        text-align: right;\n",
              "    }\n",
              "</style>\n",
              "<table border=\"1\" class=\"dataframe\">\n",
              "  <thead>\n",
              "    <tr style=\"text-align: right;\">\n",
              "      <th></th>\n",
              "      <th>fare</th>\n",
              "    </tr>\n",
              "    <tr>\n",
              "      <th>pclass</th>\n",
              "      <th></th>\n",
              "    </tr>\n",
              "  </thead>\n",
              "  <tbody>\n",
              "    <tr>\n",
              "      <th>1</th>\n",
              "      <td>87.508992</td>\n",
              "    </tr>\n",
              "    <tr>\n",
              "      <th>2</th>\n",
              "      <td>21.179196</td>\n",
              "    </tr>\n",
              "    <tr>\n",
              "      <th>3</th>\n",
              "      <td>13.302889</td>\n",
              "    </tr>\n",
              "  </tbody>\n",
              "</table>\n",
              "</div>\n",
              "      <button class=\"colab-df-convert\" onclick=\"convertToInteractive('df-c450a4e7-c228-478e-b0f7-577a291b4ee4')\"\n",
              "              title=\"Convert this dataframe to an interactive table.\"\n",
              "              style=\"display:none;\">\n",
              "        \n",
              "  <svg xmlns=\"http://www.w3.org/2000/svg\" height=\"24px\"viewBox=\"0 0 24 24\"\n",
              "       width=\"24px\">\n",
              "    <path d=\"M0 0h24v24H0V0z\" fill=\"none\"/>\n",
              "    <path d=\"M18.56 5.44l.94 2.06.94-2.06 2.06-.94-2.06-.94-.94-2.06-.94 2.06-2.06.94zm-11 1L8.5 8.5l.94-2.06 2.06-.94-2.06-.94L8.5 2.5l-.94 2.06-2.06.94zm10 10l.94 2.06.94-2.06 2.06-.94-2.06-.94-.94-2.06-.94 2.06-2.06.94z\"/><path d=\"M17.41 7.96l-1.37-1.37c-.4-.4-.92-.59-1.43-.59-.52 0-1.04.2-1.43.59L10.3 9.45l-7.72 7.72c-.78.78-.78 2.05 0 2.83L4 21.41c.39.39.9.59 1.41.59.51 0 1.02-.2 1.41-.59l7.78-7.78 2.81-2.81c.8-.78.8-2.07 0-2.86zM5.41 20L4 18.59l7.72-7.72 1.47 1.35L5.41 20z\"/>\n",
              "  </svg>\n",
              "      </button>\n",
              "      \n",
              "  <style>\n",
              "    .colab-df-container {\n",
              "      display:flex;\n",
              "      flex-wrap:wrap;\n",
              "      gap: 12px;\n",
              "    }\n",
              "\n",
              "    .colab-df-convert {\n",
              "      background-color: #E8F0FE;\n",
              "      border: none;\n",
              "      border-radius: 50%;\n",
              "      cursor: pointer;\n",
              "      display: none;\n",
              "      fill: #1967D2;\n",
              "      height: 32px;\n",
              "      padding: 0 0 0 0;\n",
              "      width: 32px;\n",
              "    }\n",
              "\n",
              "    .colab-df-convert:hover {\n",
              "      background-color: #E2EBFA;\n",
              "      box-shadow: 0px 1px 2px rgba(60, 64, 67, 0.3), 0px 1px 3px 1px rgba(60, 64, 67, 0.15);\n",
              "      fill: #174EA6;\n",
              "    }\n",
              "\n",
              "    [theme=dark] .colab-df-convert {\n",
              "      background-color: #3B4455;\n",
              "      fill: #D2E3FC;\n",
              "    }\n",
              "\n",
              "    [theme=dark] .colab-df-convert:hover {\n",
              "      background-color: #434B5C;\n",
              "      box-shadow: 0px 1px 3px 1px rgba(0, 0, 0, 0.15);\n",
              "      filter: drop-shadow(0px 1px 2px rgba(0, 0, 0, 0.3));\n",
              "      fill: #FFFFFF;\n",
              "    }\n",
              "  </style>\n",
              "\n",
              "      <script>\n",
              "        const buttonEl =\n",
              "          document.querySelector('#df-c450a4e7-c228-478e-b0f7-577a291b4ee4 button.colab-df-convert');\n",
              "        buttonEl.style.display =\n",
              "          google.colab.kernel.accessAllowed ? 'block' : 'none';\n",
              "\n",
              "        async function convertToInteractive(key) {\n",
              "          const element = document.querySelector('#df-c450a4e7-c228-478e-b0f7-577a291b4ee4');\n",
              "          const dataTable =\n",
              "            await google.colab.kernel.invokeFunction('convertToInteractive',\n",
              "                                                     [key], {});\n",
              "          if (!dataTable) return;\n",
              "\n",
              "          const docLinkHtml = 'Like what you see? Visit the ' +\n",
              "            '<a target=\"_blank\" href=https://colab.research.google.com/notebooks/data_table.ipynb>data table notebook</a>'\n",
              "            + ' to learn more about interactive tables.';\n",
              "          element.innerHTML = '';\n",
              "          dataTable['output_type'] = 'display_data';\n",
              "          await google.colab.output.renderOutput(dataTable, element);\n",
              "          const docLink = document.createElement('div');\n",
              "          docLink.innerHTML = docLinkHtml;\n",
              "          element.appendChild(docLink);\n",
              "        }\n",
              "      </script>\n",
              "    </div>\n",
              "  </div>\n",
              "  "
            ]
          },
          "metadata": {},
          "execution_count": 33
        }
      ]
    },
    {
      "cell_type": "markdown",
      "source": [
        "### 가족 구성에 따른 생존률 관계"
      ],
      "metadata": {
        "id": "MgHFTgmN-2DL"
      }
    },
    {
      "cell_type": "markdown",
      "source": [
        "먼저 부모 혹은 자녀의 수부터 살펴보면 다음과 같다."
      ],
      "metadata": {
        "id": "RfE6luBUAzlx"
      }
    },
    {
      "cell_type": "code",
      "source": [
        "fig = plt.figure(figsize=(12, 6))\n",
        "graph1 = fig.add_subplot(1, 2, 1)\n",
        "graph2 = fig.add_subplot(1, 2, 2)\n",
        "\n",
        "# 아래는 0, 1, 2 의 항목이 비중이 높아 나머지의 분포 확인이 어렵다.\n",
        "# sns.histplot(data=df, x=\"parch\", ax=graph1)\n",
        "# sns.histplot(data=df, x=\"parch\", hue=\"survived\", ax=graph2, multiple=\"stack\")\n",
        "\n",
        "sns.barplot(data=df, x=\"parch\", y=\"survived\", ax=graph1)\n",
        "sns.pointplot(data=df, x=\"parch\", y=\"survived\", ax=graph2)\n",
        "plt.show()"
      ],
      "metadata": {
        "colab": {
          "base_uri": "https://localhost:8080/",
          "height": 388
        },
        "id": "o06aASOYAIix",
        "outputId": "8facf8bc-5450-404d-edf0-42fafb7b6145"
      },
      "execution_count": 34,
      "outputs": [
        {
          "output_type": "display_data",
          "data": {
            "text/plain": [
              "<Figure size 864x432 with 2 Axes>"
            ],
            "image/png": "[encoded data removed]"
          },
          "metadata": {
            "needs_background": "light"
          }
        }
      ]
    },
    {
      "cell_type": "code",
      "source": [
        "pd.pivot_table(data=df, index=\"parch\", values=\"survived\")"
      ],
      "metadata": {
        "colab": {
          "base_uri": "https://localhost:8080/",
          "height": 332
        },
        "id": "-4BHb8ztDwWZ",
        "outputId": "b07b01d7-2697-4d92-ec52-356412914435"
      },
      "execution_count": 35,
      "outputs": [
        {
          "output_type": "execute_result",
          "data": {
            "text/plain": [
              "       survived\n",
              "parch          \n",
              "0      0.335329\n",
              "1      0.588235\n",
              "2      0.504425\n",
              "3      0.625000\n",
              "4      0.166667\n",
              "5      0.166667\n",
              "6      0.000000\n",
              "9      0.000000"
            ],
            "text/html": [
              "\n",
              "  <div id=\"df-a31ae5c5-683f-4fdd-91df-c5066ccfe838\">\n",
              "    <div class=\"colab-df-container\">\n",
              "      <div>\n",
              "<style scoped>\n",
              "    .dataframe tbody tr th:only-of-type {\n",
              "        vertical-align: middle;\n",
              "    }\n",
              "\n",
              "    .dataframe tbody tr th {\n",
              "        vertical-align: top;\n",
              "    }\n",
              "\n",
              "    .dataframe thead th {\n",
              "        text-align: right;\n",
              "    }\n",
              "</style>\n",
              "<table border=\"1\" class=\"dataframe\">\n",
              "  <thead>\n",
              "    <tr style=\"text-align: right;\">\n",
              "      <th></th>\n",
              "      <th>survived</th>\n",
              "    </tr>\n",
              "    <tr>\n",
              "      <th>parch</th>\n",
              "      <th></th>\n",
              "    </tr>\n",
              "  </thead>\n",
              "  <tbody>\n",
              "    <tr>\n",
              "      <th>0</th>\n",
              "      <td>0.335329</td>\n",
              "    </tr>\n",
              "    <tr>\n",
              "      <th>1</th>\n",
              "      <td>0.588235</td>\n",
              "    </tr>\n",
              "    <tr>\n",
              "      <th>2</th>\n",
              "      <td>0.504425</td>\n",
              "    </tr>\n",
              "    <tr>\n",
              "      <th>3</th>\n",
              "      <td>0.625000</td>\n",
              "    </tr>\n",
              "    <tr>\n",
              "      <th>4</th>\n",
              "      <td>0.166667</td>\n",
              "    </tr>\n",
              "    <tr>\n",
              "      <th>5</th>\n",
              "      <td>0.166667</td>\n",
              "    </tr>\n",
              "    <tr>\n",
              "      <th>6</th>\n",
              "      <td>0.000000</td>\n",
              "    </tr>\n",
              "    <tr>\n",
              "      <th>9</th>\n",
              "      <td>0.000000</td>\n",
              "    </tr>\n",
              "  </tbody>\n",
              "</table>\n",
              "</div>\n",
              "      <button class=\"colab-df-convert\" onclick=\"convertToInteractive('df-a31ae5c5-683f-4fdd-91df-c5066ccfe838')\"\n",
              "              title=\"Convert this dataframe to an interactive table.\"\n",
              "              style=\"display:none;\">\n",
              "        \n",
              "  <svg xmlns=\"http://www.w3.org/2000/svg\" height=\"24px\"viewBox=\"0 0 24 24\"\n",
              "       width=\"24px\">\n",
              "    <path d=\"M0 0h24v24H0V0z\" fill=\"none\"/>\n",
              "    <path d=\"M18.56 5.44l.94 2.06.94-2.06 2.06-.94-2.06-.94-.94-2.06-.94 2.06-2.06.94zm-11 1L8.5 8.5l.94-2.06 2.06-.94-2.06-.94L8.5 2.5l-.94 2.06-2.06.94zm10 10l.94 2.06.94-2.06 2.06-.94-2.06-.94-.94-2.06-.94 2.06-2.06.94z\"/><path d=\"M17.41 7.96l-1.37-1.37c-.4-.4-.92-.59-1.43-.59-.52 0-1.04.2-1.43.59L10.3 9.45l-7.72 7.72c-.78.78-.78 2.05 0 2.83L4 21.41c.39.39.9.59 1.41.59.51 0 1.02-.2 1.41-.59l7.78-7.78 2.81-2.81c.8-.78.8-2.07 0-2.86zM5.41 20L4 18.59l7.72-7.72 1.47 1.35L5.41 20z\"/>\n",
              "  </svg>\n",
              "      </button>\n",
              "      \n",
              "  <style>\n",
              "    .colab-df-container {\n",
              "      display:flex;\n",
              "      flex-wrap:wrap;\n",
              "      gap: 12px;\n",
              "    }\n",
              "\n",
              "    .colab-df-convert {\n",
              "      background-color: #E8F0FE;\n",
              "      border: none;\n",
              "      border-radius: 50%;\n",
              "      cursor: pointer;\n",
              "      display: none;\n",
              "      fill: #1967D2;\n",
              "      height: 32px;\n",
              "      padding: 0 0 0 0;\n",
              "      width: 32px;\n",
              "    }\n",
              "\n",
              "    .colab-df-convert:hover {\n",
              "      background-color: #E2EBFA;\n",
              "      box-shadow: 0px 1px 2px rgba(60, 64, 67, 0.3), 0px 1px 3px 1px rgba(60, 64, 67, 0.15);\n",
              "      fill: #174EA6;\n",
              "    }\n",
              "\n",
              "    [theme=dark] .colab-df-convert {\n",
              "      background-color: #3B4455;\n",
              "      fill: #D2E3FC;\n",
              "    }\n",
              "\n",
              "    [theme=dark] .colab-df-convert:hover {\n",
              "      background-color: #434B5C;\n",
              "      box-shadow: 0px 1px 3px 1px rgba(0, 0, 0, 0.15);\n",
              "      filter: drop-shadow(0px 1px 2px rgba(0, 0, 0, 0.3));\n",
              "      fill: #FFFFFF;\n",
              "    }\n",
              "  </style>\n",
              "\n",
              "      <script>\n",
              "        const buttonEl =\n",
              "          document.querySelector('#df-a31ae5c5-683f-4fdd-91df-c5066ccfe838 button.colab-df-convert');\n",
              "        buttonEl.style.display =\n",
              "          google.colab.kernel.accessAllowed ? 'block' : 'none';\n",
              "\n",
              "        async function convertToInteractive(key) {\n",
              "          const element = document.querySelector('#df-a31ae5c5-683f-4fdd-91df-c5066ccfe838');\n",
              "          const dataTable =\n",
              "            await google.colab.kernel.invokeFunction('convertToInteractive',\n",
              "                                                     [key], {});\n",
              "          if (!dataTable) return;\n",
              "\n",
              "          const docLinkHtml = 'Like what you see? Visit the ' +\n",
              "            '<a target=\"_blank\" href=https://colab.research.google.com/notebooks/data_table.ipynb>data table notebook</a>'\n",
              "            + ' to learn more about interactive tables.';\n",
              "          element.innerHTML = '';\n",
              "          dataTable['output_type'] = 'display_data';\n",
              "          await google.colab.output.renderOutput(dataTable, element);\n",
              "          const docLink = document.createElement('div');\n",
              "          docLink.innerHTML = docLinkHtml;\n",
              "          element.appendChild(docLink);\n",
              "        }\n",
              "      </script>\n",
              "    </div>\n",
              "  </div>\n",
              "  "
            ]
          },
          "metadata": {},
          "execution_count": 35
        }
      ]
    },
    {
      "cell_type": "markdown",
      "source": [
        "구성원이 1 ~ 3명인 경우에 높은 생존률을 보이고 있다.  \n",
        "(가장 높은 수치는 3명인 경우)\n",
        "\n",
        "다음으로 형제 혹은 부부의 수를 기준으로 보면 아래와 같다."
      ],
      "metadata": {
        "id": "2g-nwdVzEbR0"
      }
    },
    {
      "cell_type": "code",
      "source": [
        "fig = plt.figure(figsize=(12, 6))\n",
        "graph1 = fig.add_subplot(1, 2, 1)\n",
        "graph2 = fig.add_subplot(1, 2, 2)\n",
        "\n",
        "sns.barplot(data=df, x=\"sibsp\", y=\"survived\", ax=graph1)\n",
        "sns.pointplot(data=df, x=\"sibsp\", y=\"survived\", ax=graph2)\n",
        "plt.show()"
      ],
      "metadata": {
        "colab": {
          "base_uri": "https://localhost:8080/",
          "height": 388
        },
        "id": "L4A1MXK8FIqu",
        "outputId": "691f6cb0-5d9c-4feb-dfc7-134670bbfd8f"
      },
      "execution_count": 36,
      "outputs": [
        {
          "output_type": "display_data",
          "data": {
            "text/plain": [
              "<Figure size 864x432 with 2 Axes>"
            ],
            "image/png": "[encoded data removed]"
          },
          "metadata": {
            "needs_background": "light"
          }
        }
      ]
    },
    {
      "cell_type": "code",
      "source": [
        "pd.pivot_table(data=df, index=\"sibsp\", values=\"survived\")"
      ],
      "metadata": {
        "colab": {
          "base_uri": "https://localhost:8080/",
          "height": 300
        },
        "id": "a14JQuT0Fe_K",
        "outputId": "03b321ed-9b16-45e1-8940-3a5d73147998"
      },
      "execution_count": 37,
      "outputs": [
        {
          "output_type": "execute_result",
          "data": {
            "text/plain": [
              "       survived\n",
              "sibsp          \n",
              "0      0.346801\n",
              "1      0.510972\n",
              "2      0.452381\n",
              "3      0.300000\n",
              "4      0.136364\n",
              "5      0.000000\n",
              "8      0.000000"
            ],
            "text/html": [
              "\n",
              "  <div id=\"df-f4dcf88d-96b1-420f-962a-af91c003b78b\">\n",
              "    <div class=\"colab-df-container\">\n",
              "      <div>\n",
              "<style scoped>\n",
              "    .dataframe tbody tr th:only-of-type {\n",
              "        vertical-align: middle;\n",
              "    }\n",
              "\n",
              "    .dataframe tbody tr th {\n",
              "        vertical-align: top;\n",
              "    }\n",
              "\n",
              "    .dataframe thead th {\n",
              "        text-align: right;\n",
              "    }\n",
              "</style>\n",
              "<table border=\"1\" class=\"dataframe\">\n",
              "  <thead>\n",
              "    <tr style=\"text-align: right;\">\n",
              "      <th></th>\n",
              "      <th>survived</th>\n",
              "    </tr>\n",
              "    <tr>\n",
              "      <th>sibsp</th>\n",
              "      <th></th>\n",
              "    </tr>\n",
              "  </thead>\n",
              "  <tbody>\n",
              "    <tr>\n",
              "      <th>0</th>\n",
              "      <td>0.346801</td>\n",
              "    </tr>\n",
              "    <tr>\n",
              "      <th>1</th>\n",
              "      <td>0.510972</td>\n",
              "    </tr>\n",
              "    <tr>\n",
              "      <th>2</th>\n",
              "      <td>0.452381</td>\n",
              "    </tr>\n",
              "    <tr>\n",
              "      <th>3</th>\n",
              "      <td>0.300000</td>\n",
              "    </tr>\n",
              "    <tr>\n",
              "      <th>4</th>\n",
              "      <td>0.136364</td>\n",
              "    </tr>\n",
              "    <tr>\n",
              "      <th>5</th>\n",
              "      <td>0.000000</td>\n",
              "    </tr>\n",
              "    <tr>\n",
              "      <th>8</th>\n",
              "      <td>0.000000</td>\n",
              "    </tr>\n",
              "  </tbody>\n",
              "</table>\n",
              "</div>\n",
              "      <button class=\"colab-df-convert\" onclick=\"convertToInteractive('df-f4dcf88d-96b1-420f-962a-af91c003b78b')\"\n",
              "              title=\"Convert this dataframe to an interactive table.\"\n",
              "              style=\"display:none;\">\n",
              "        \n",
              "  <svg xmlns=\"http://www.w3.org/2000/svg\" height=\"24px\"viewBox=\"0 0 24 24\"\n",
              "       width=\"24px\">\n",
              "    <path d=\"M0 0h24v24H0V0z\" fill=\"none\"/>\n",
              "    <path d=\"M18.56 5.44l.94 2.06.94-2.06 2.06-.94-2.06-.94-.94-2.06-.94 2.06-2.06.94zm-11 1L8.5 8.5l.94-2.06 2.06-.94-2.06-.94L8.5 2.5l-.94 2.06-2.06.94zm10 10l.94 2.06.94-2.06 2.06-.94-2.06-.94-.94-2.06-.94 2.06-2.06.94z\"/><path d=\"M17.41 7.96l-1.37-1.37c-.4-.4-.92-.59-1.43-.59-.52 0-1.04.2-1.43.59L10.3 9.45l-7.72 7.72c-.78.78-.78 2.05 0 2.83L4 21.41c.39.39.9.59 1.41.59.51 0 1.02-.2 1.41-.59l7.78-7.78 2.81-2.81c.8-.78.8-2.07 0-2.86zM5.41 20L4 18.59l7.72-7.72 1.47 1.35L5.41 20z\"/>\n",
              "  </svg>\n",
              "      </button>\n",
              "      \n",
              "  <style>\n",
              "    .colab-df-container {\n",
              "      display:flex;\n",
              "      flex-wrap:wrap;\n",
              "      gap: 12px;\n",
              "    }\n",
              "\n",
              "    .colab-df-convert {\n",
              "      background-color: #E8F0FE;\n",
              "      border: none;\n",
              "      border-radius: 50%;\n",
              "      cursor: pointer;\n",
              "      display: none;\n",
              "      fill: #1967D2;\n",
              "      height: 32px;\n",
              "      padding: 0 0 0 0;\n",
              "      width: 32px;\n",
              "    }\n",
              "\n",
              "    .colab-df-convert:hover {\n",
              "      background-color: #E2EBFA;\n",
              "      box-shadow: 0px 1px 2px rgba(60, 64, 67, 0.3), 0px 1px 3px 1px rgba(60, 64, 67, 0.15);\n",
              "      fill: #174EA6;\n",
              "    }\n",
              "\n",
              "    [theme=dark] .colab-df-convert {\n",
              "      background-color: #3B4455;\n",
              "      fill: #D2E3FC;\n",
              "    }\n",
              "\n",
              "    [theme=dark] .colab-df-convert:hover {\n",
              "      background-color: #434B5C;\n",
              "      box-shadow: 0px 1px 3px 1px rgba(0, 0, 0, 0.15);\n",
              "      filter: drop-shadow(0px 1px 2px rgba(0, 0, 0, 0.3));\n",
              "      fill: #FFFFFF;\n",
              "    }\n",
              "  </style>\n",
              "\n",
              "      <script>\n",
              "        const buttonEl =\n",
              "          document.querySelector('#df-f4dcf88d-96b1-420f-962a-af91c003b78b button.colab-df-convert');\n",
              "        buttonEl.style.display =\n",
              "          google.colab.kernel.accessAllowed ? 'block' : 'none';\n",
              "\n",
              "        async function convertToInteractive(key) {\n",
              "          const element = document.querySelector('#df-f4dcf88d-96b1-420f-962a-af91c003b78b');\n",
              "          const dataTable =\n",
              "            await google.colab.kernel.invokeFunction('convertToInteractive',\n",
              "                                                     [key], {});\n",
              "          if (!dataTable) return;\n",
              "\n",
              "          const docLinkHtml = 'Like what you see? Visit the ' +\n",
              "            '<a target=\"_blank\" href=https://colab.research.google.com/notebooks/data_table.ipynb>data table notebook</a>'\n",
              "            + ' to learn more about interactive tables.';\n",
              "          element.innerHTML = '';\n",
              "          dataTable['output_type'] = 'display_data';\n",
              "          await google.colab.output.renderOutput(dataTable, element);\n",
              "          const docLink = document.createElement('div');\n",
              "          docLink.innerHTML = docLinkHtml;\n",
              "          element.appendChild(docLink);\n",
              "        }\n",
              "      </script>\n",
              "    </div>\n",
              "  </div>\n",
              "  "
            ]
          },
          "metadata": {},
          "execution_count": 37
        }
      ]
    },
    {
      "cell_type": "markdown",
      "source": [
        "이전과 비슷한데  \n",
        "구성원이 1 ~ 2 명인 경우에 높은 생존률을 보이고 있다.  \n",
        "(가장 높은 수치는 1명인 경우)\n",
        "\n",
        "내심 가족 구성원이 많으면 생존본능이 발동될 것만 같았지만 의외로 그렇지 않은 듯 하다."
      ],
      "metadata": {
        "id": "1SZkfjdBF6FO"
      }
    },
    {
      "cell_type": "markdown",
      "source": [
        "### 출신별에 따라서도 생존률과 관계가 있을까?"
      ],
      "metadata": {
        "id": "najtdajHGbJk"
      }
    },
    {
      "cell_type": "markdown",
      "source": [
        "해당 `home.dest` 데이터는 위의 데이터 전처리 과정에서 생략되었기 때문에 결측값이 존재한다.\n",
        "\n",
        "그런데 그 결측값이 어찌 많은 것 같다..."
      ],
      "metadata": {
        "id": "e6kQR7Od2rv3"
      }
    },
    {
      "cell_type": "code",
      "source": [
        "df['home.dest'].isnull().sum()"
      ],
      "metadata": {
        "colab": {
          "base_uri": "https://localhost:8080/"
        },
        "id": "u4eqrZYwICxP",
        "outputId": "0a2ca310-ef07-4c7e-a721-074f5f906e59"
      },
      "execution_count": 38,
      "outputs": [
        {
          "output_type": "execute_result",
          "data": {
            "text/plain": [
              "564"
            ]
          },
          "metadata": {},
          "execution_count": 38
        }
      ]
    },
    {
      "cell_type": "markdown",
      "source": [
        "우선 결측값을 제외한 데이터만으로 분석한다."
      ],
      "metadata": {
        "id": "A5SZYrHr2vuY"
      }
    },
    {
      "cell_type": "code",
      "source": [
        "t = df[df['home.dest'].notnull()]"
      ],
      "metadata": {
        "id": "o9yyJltcINJi"
      },
      "execution_count": 39,
      "outputs": []
    },
    {
      "cell_type": "code",
      "source": [
        "t['home.dest'].nunique()"
      ],
      "metadata": {
        "colab": {
          "base_uri": "https://localhost:8080/"
        },
        "id": "9_SDYU6iIUzW",
        "outputId": "b42caa35-6324-441a-a474-5d731da48d3f"
      },
      "execution_count": 40,
      "outputs": [
        {
          "output_type": "execute_result",
          "data": {
            "text/plain": [
              "369"
            ]
          },
          "metadata": {},
          "execution_count": 40
        }
      ]
    },
    {
      "cell_type": "code",
      "source": [
        "t['home.dest'].value_counts()"
      ],
      "metadata": {
        "colab": {
          "base_uri": "https://localhost:8080/"
        },
        "id": "UUFQY4t9Iu3_",
        "outputId": "5525297a-5729-45d1-d653-33488baf342b"
      },
      "execution_count": 41,
      "outputs": [
        {
          "output_type": "execute_result",
          "data": {
            "text/plain": [
              "New York, NY                                    64\n",
              "London                                          14\n",
              "Montreal, PQ                                    10\n",
              "Paris, France                                    9\n",
              "Cornwall / Akron, OH                             9\n",
              "                                                ..\n",
              "Chelsea, London                                  1\n",
              "Harrow-on-the-Hill, Middlesex                    1\n",
              "Copenhagen, Denmark                              1\n",
              "Guernsey / Montclair, NJ and/or Toledo, Ohio     1\n",
              "Antwerp, Belgium / Stanton, OH                   1\n",
              "Name: home.dest, Length: 369, dtype: int64"
            ]
          },
          "metadata": {},
          "execution_count": 41
        }
      ]
    },
    {
      "cell_type": "markdown",
      "source": [
        "좀 더 그룹을 간소화 시킬 필요가 있는데, 이를 처리하려면 적어도 대륙별로 나눈다던지의 작업이 필요해 보인다.\n",
        "\n",
        "그러기 위해서는 geodata 를 활용한 별도의 데이터 전처리를 해야 하므로 시간 관계상 생략한다."
      ],
      "metadata": {
        "id": "mdW5gtOTI_20"
      }
    },
    {
      "cell_type": "markdown",
      "source": [
        "### 탑승위치에 따라서도 생존률과 관계가 있을까?"
      ],
      "metadata": {
        "id": "DRVXUYw4JtUA"
      }
    },
    {
      "cell_type": "markdown",
      "source": [
        "해당 `embarked` 데이터 또한 위의 데이터 전처리 과정에서 생략되었기 때문에 결측값이 존재한다."
      ],
      "metadata": {
        "id": "y5BN7v6Xz8Lc"
      }
    },
    {
      "cell_type": "code",
      "source": [
        "df['embarked'].isnull().sum()"
      ],
      "metadata": {
        "colab": {
          "base_uri": "https://localhost:8080/"
        },
        "id": "kxUp-28kJWYf",
        "outputId": "e66a0a53-5165-490d-a77e-057c938294ae"
      },
      "execution_count": 42,
      "outputs": [
        {
          "output_type": "execute_result",
          "data": {
            "text/plain": [
              "2"
            ]
          },
          "metadata": {},
          "execution_count": 42
        }
      ]
    },
    {
      "cell_type": "markdown",
      "source": [
        "하지만 결측값은 극히 일부이므로 이를 제외하고 진행해도 상관없을 것 같다."
      ],
      "metadata": {
        "id": "4RcAZq5E0IZd"
      }
    },
    {
      "cell_type": "code",
      "source": [
        "t = df[df['embarked'].notnull()]"
      ],
      "metadata": {
        "id": "hoNor1xBKLzL"
      },
      "execution_count": 43,
      "outputs": []
    },
    {
      "cell_type": "markdown",
      "source": [
        "탑승위치(선착장)는 총 3가지가 있다."
      ],
      "metadata": {
        "id": "TlD6amVT0crY"
      }
    },
    {
      "cell_type": "code",
      "source": [
        "t['embarked'].unique()"
      ],
      "metadata": {
        "colab": {
          "base_uri": "https://localhost:8080/"
        },
        "id": "wCECHY3EKPxU",
        "outputId": "807f2a9e-70ab-4c18-ed09-daf382571920"
      },
      "execution_count": 44,
      "outputs": [
        {
          "output_type": "execute_result",
          "data": {
            "text/plain": [
              "array(['S', 'C', 'Q'], dtype=object)"
            ]
          },
          "metadata": {},
          "execution_count": 44
        }
      ]
    },
    {
      "cell_type": "code",
      "source": [
        "fig = plt.figure(figsize=(12, 6))\n",
        "graph1 = fig.add_subplot(1, 2, 1)\n",
        "graph2 = fig.add_subplot(1, 2, 2)\n",
        "\n",
        "sns.countplot(data=t, x=\"embarked\", ax=graph1)\n",
        "sns.countplot(data=t, x=\"embarked\", hue=\"survived\", ax=graph2)\n",
        "plt.show()"
      ],
      "metadata": {
        "colab": {
          "base_uri": "https://localhost:8080/",
          "height": 388
        },
        "id": "TZbrG-8AKVL8",
        "outputId": "c5e80a46-f06c-4213-b470-f11733227c51"
      },
      "execution_count": 45,
      "outputs": [
        {
          "output_type": "display_data",
          "data": {
            "text/plain": [
              "<Figure size 864x432 with 2 Axes>"
            ],
            "image/png": "[encoded data removed]"
          },
          "metadata": {
            "needs_background": "light"
          }
        }
      ]
    },
    {
      "cell_type": "markdown",
      "source": [
        "S 에서 탄 승객수가 가장 많으며 그만큼 사망자 수 또한 가장 높은 수치를 보이고 있다.\n",
        "\n",
        "만약 결측치를 채워넣게 된다면 S 에서 승선한 것으로 채워넣어도 될 듯 하다."
      ],
      "metadata": {
        "id": "cRYIOwe_1VlW"
      }
    },
    {
      "cell_type": "code",
      "source": [
        "pd.pivot_table(data=df, index=\"embarked\", values=\"survived\")"
      ],
      "metadata": {
        "colab": {
          "base_uri": "https://localhost:8080/",
          "height": 175
        },
        "id": "12M83MoKKk5s",
        "outputId": "fbc32880-5528-43c6-edb5-9a100779fc5b"
      },
      "execution_count": 46,
      "outputs": [
        {
          "output_type": "execute_result",
          "data": {
            "text/plain": [
              "          survived\n",
              "embarked          \n",
              "C         0.555556\n",
              "Q         0.357724\n",
              "S         0.332604"
            ],
            "text/html": [
              "\n",
              "  <div id=\"df-b14473d5-a3a1-4a6b-ac23-f60cf9b23c94\">\n",
              "    <div class=\"colab-df-container\">\n",
              "      <div>\n",
              "<style scoped>\n",
              "    .dataframe tbody tr th:only-of-type {\n",
              "        vertical-align: middle;\n",
              "    }\n",
              "\n",
              "    .dataframe tbody tr th {\n",
              "        vertical-align: top;\n",
              "    }\n",
              "\n",
              "    .dataframe thead th {\n",
              "        text-align: right;\n",
              "    }\n",
              "</style>\n",
              "<table border=\"1\" class=\"dataframe\">\n",
              "  <thead>\n",
              "    <tr style=\"text-align: right;\">\n",
              "      <th></th>\n",
              "      <th>survived</th>\n",
              "    </tr>\n",
              "    <tr>\n",
              "      <th>embarked</th>\n",
              "      <th></th>\n",
              "    </tr>\n",
              "  </thead>\n",
              "  <tbody>\n",
              "    <tr>\n",
              "      <th>C</th>\n",
              "      <td>0.555556</td>\n",
              "    </tr>\n",
              "    <tr>\n",
              "      <th>Q</th>\n",
              "      <td>0.357724</td>\n",
              "    </tr>\n",
              "    <tr>\n",
              "      <th>S</th>\n",
              "      <td>0.332604</td>\n",
              "    </tr>\n",
              "  </tbody>\n",
              "</table>\n",
              "</div>\n",
              "      <button class=\"colab-df-convert\" onclick=\"convertToInteractive('df-b14473d5-a3a1-4a6b-ac23-f60cf9b23c94')\"\n",
              "              title=\"Convert this dataframe to an interactive table.\"\n",
              "              style=\"display:none;\">\n",
              "        \n",
              "  <svg xmlns=\"http://www.w3.org/2000/svg\" height=\"24px\"viewBox=\"0 0 24 24\"\n",
              "       width=\"24px\">\n",
              "    <path d=\"M0 0h24v24H0V0z\" fill=\"none\"/>\n",
              "    <path d=\"M18.56 5.44l.94 2.06.94-2.06 2.06-.94-2.06-.94-.94-2.06-.94 2.06-2.06.94zm-11 1L8.5 8.5l.94-2.06 2.06-.94-2.06-.94L8.5 2.5l-.94 2.06-2.06.94zm10 10l.94 2.06.94-2.06 2.06-.94-2.06-.94-.94-2.06-.94 2.06-2.06.94z\"/><path d=\"M17.41 7.96l-1.37-1.37c-.4-.4-.92-.59-1.43-.59-.52 0-1.04.2-1.43.59L10.3 9.45l-7.72 7.72c-.78.78-.78 2.05 0 2.83L4 21.41c.39.39.9.59 1.41.59.51 0 1.02-.2 1.41-.59l7.78-7.78 2.81-2.81c.8-.78.8-2.07 0-2.86zM5.41 20L4 18.59l7.72-7.72 1.47 1.35L5.41 20z\"/>\n",
              "  </svg>\n",
              "      </button>\n",
              "      \n",
              "  <style>\n",
              "    .colab-df-container {\n",
              "      display:flex;\n",
              "      flex-wrap:wrap;\n",
              "      gap: 12px;\n",
              "    }\n",
              "\n",
              "    .colab-df-convert {\n",
              "      background-color: #E8F0FE;\n",
              "      border: none;\n",
              "      border-radius: 50%;\n",
              "      cursor: pointer;\n",
              "      display: none;\n",
              "      fill: #1967D2;\n",
              "      height: 32px;\n",
              "      padding: 0 0 0 0;\n",
              "      width: 32px;\n",
              "    }\n",
              "\n",
              "    .colab-df-convert:hover {\n",
              "      background-color: #E2EBFA;\n",
              "      box-shadow: 0px 1px 2px rgba(60, 64, 67, 0.3), 0px 1px 3px 1px rgba(60, 64, 67, 0.15);\n",
              "      fill: #174EA6;\n",
              "    }\n",
              "\n",
              "    [theme=dark] .colab-df-convert {\n",
              "      background-color: #3B4455;\n",
              "      fill: #D2E3FC;\n",
              "    }\n",
              "\n",
              "    [theme=dark] .colab-df-convert:hover {\n",
              "      background-color: #434B5C;\n",
              "      box-shadow: 0px 1px 3px 1px rgba(0, 0, 0, 0.15);\n",
              "      filter: drop-shadow(0px 1px 2px rgba(0, 0, 0, 0.3));\n",
              "      fill: #FFFFFF;\n",
              "    }\n",
              "  </style>\n",
              "\n",
              "      <script>\n",
              "        const buttonEl =\n",
              "          document.querySelector('#df-b14473d5-a3a1-4a6b-ac23-f60cf9b23c94 button.colab-df-convert');\n",
              "        buttonEl.style.display =\n",
              "          google.colab.kernel.accessAllowed ? 'block' : 'none';\n",
              "\n",
              "        async function convertToInteractive(key) {\n",
              "          const element = document.querySelector('#df-b14473d5-a3a1-4a6b-ac23-f60cf9b23c94');\n",
              "          const dataTable =\n",
              "            await google.colab.kernel.invokeFunction('convertToInteractive',\n",
              "                                                     [key], {});\n",
              "          if (!dataTable) return;\n",
              "\n",
              "          const docLinkHtml = 'Like what you see? Visit the ' +\n",
              "            '<a target=\"_blank\" href=https://colab.research.google.com/notebooks/data_table.ipynb>data table notebook</a>'\n",
              "            + ' to learn more about interactive tables.';\n",
              "          element.innerHTML = '';\n",
              "          dataTable['output_type'] = 'display_data';\n",
              "          await google.colab.output.renderOutput(dataTable, element);\n",
              "          const docLink = document.createElement('div');\n",
              "          docLink.innerHTML = docLinkHtml;\n",
              "          element.appendChild(docLink);\n",
              "        }\n",
              "      </script>\n",
              "    </div>\n",
              "  </div>\n",
              "  "
            ]
          },
          "metadata": {},
          "execution_count": 46
        }
      ]
    },
    {
      "cell_type": "markdown",
      "source": [
        "의외로 C 에서 탄 승객의 생존률이 높게 나오고 있다."
      ],
      "metadata": {
        "id": "Rnl7sZ3b1fe2"
      }
    },
    {
      "cell_type": "markdown",
      "source": [
        "## 5. 결론\n",
        "\n"
      ],
      "metadata": {
        "id": "PAB77-XxBCxp"
      }
    },
    {
      "cell_type": "markdown",
      "source": [
        "가장 높은 생존률이 되기 위한 조건은 다음과 같다.\n",
        "\n",
        "1. 여성\n",
        "2. 여성이라면 50대, 남성이라면 10세 미만의 유아\n",
        "3. 1등급 객실\n",
        "4. 가족구성이 1명\n",
        "5. C 선착장에서 탑승"
      ],
      "metadata": {
        "id": "Z9kJWLmrBFHk"
      }
    }
  ]
}